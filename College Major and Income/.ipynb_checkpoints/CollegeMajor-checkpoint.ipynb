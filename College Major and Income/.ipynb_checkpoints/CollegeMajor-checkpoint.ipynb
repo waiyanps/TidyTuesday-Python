{
 "cells": [
  {
   "cell_type": "code",
   "execution_count": 1,
   "metadata": {},
   "outputs": [],
   "source": [
    "# Common Import\n",
    "import pandas as pd\n",
    "import numpy as np\n",
    "\n",
    "pd.set_option('display.max_columns', None)\n",
    "              \n",
    "# To plot pretty figures with Plotly\n",
    "import plotly.express as px\n",
    "import plotly.graph_objects as go"
   ]
  },
  {
   "cell_type": "code",
   "execution_count": 2,
   "metadata": {},
   "outputs": [
    {
     "data": {
      "text/html": [
       "<div>\n",
       "<style scoped>\n",
       "    .dataframe tbody tr th:only-of-type {\n",
       "        vertical-align: middle;\n",
       "    }\n",
       "\n",
       "    .dataframe tbody tr th {\n",
       "        vertical-align: top;\n",
       "    }\n",
       "\n",
       "    .dataframe thead th {\n",
       "        text-align: right;\n",
       "    }\n",
       "</style>\n",
       "<table border=\"1\" class=\"dataframe\">\n",
       "  <thead>\n",
       "    <tr style=\"text-align: right;\">\n",
       "      <th></th>\n",
       "      <th>Rank</th>\n",
       "      <th>Major_code</th>\n",
       "      <th>Major</th>\n",
       "      <th>Total</th>\n",
       "      <th>Men</th>\n",
       "      <th>Women</th>\n",
       "      <th>Major_category</th>\n",
       "      <th>ShareWomen</th>\n",
       "      <th>Sample_size</th>\n",
       "      <th>Employed</th>\n",
       "      <th>Full_time</th>\n",
       "      <th>Part_time</th>\n",
       "      <th>Full_time_year_round</th>\n",
       "      <th>Unemployed</th>\n",
       "      <th>Unemployment_rate</th>\n",
       "      <th>Median</th>\n",
       "      <th>P25th</th>\n",
       "      <th>P75th</th>\n",
       "      <th>College_jobs</th>\n",
       "      <th>Non_college_jobs</th>\n",
       "      <th>Low_wage_jobs</th>\n",
       "    </tr>\n",
       "  </thead>\n",
       "  <tbody>\n",
       "    <tr>\n",
       "      <th>0</th>\n",
       "      <td>1</td>\n",
       "      <td>2419</td>\n",
       "      <td>PETROLEUM ENGINEERING</td>\n",
       "      <td>2339.0</td>\n",
       "      <td>2057.0</td>\n",
       "      <td>282.0</td>\n",
       "      <td>Engineering</td>\n",
       "      <td>0.120564</td>\n",
       "      <td>36</td>\n",
       "      <td>1976</td>\n",
       "      <td>1849</td>\n",
       "      <td>270</td>\n",
       "      <td>1207</td>\n",
       "      <td>37</td>\n",
       "      <td>0.018381</td>\n",
       "      <td>110000</td>\n",
       "      <td>95000</td>\n",
       "      <td>125000</td>\n",
       "      <td>1534</td>\n",
       "      <td>364</td>\n",
       "      <td>193</td>\n",
       "    </tr>\n",
       "    <tr>\n",
       "      <th>1</th>\n",
       "      <td>2</td>\n",
       "      <td>2416</td>\n",
       "      <td>MINING AND MINERAL ENGINEERING</td>\n",
       "      <td>756.0</td>\n",
       "      <td>679.0</td>\n",
       "      <td>77.0</td>\n",
       "      <td>Engineering</td>\n",
       "      <td>0.101852</td>\n",
       "      <td>7</td>\n",
       "      <td>640</td>\n",
       "      <td>556</td>\n",
       "      <td>170</td>\n",
       "      <td>388</td>\n",
       "      <td>85</td>\n",
       "      <td>0.117241</td>\n",
       "      <td>75000</td>\n",
       "      <td>55000</td>\n",
       "      <td>90000</td>\n",
       "      <td>350</td>\n",
       "      <td>257</td>\n",
       "      <td>50</td>\n",
       "    </tr>\n",
       "    <tr>\n",
       "      <th>2</th>\n",
       "      <td>3</td>\n",
       "      <td>2415</td>\n",
       "      <td>METALLURGICAL ENGINEERING</td>\n",
       "      <td>856.0</td>\n",
       "      <td>725.0</td>\n",
       "      <td>131.0</td>\n",
       "      <td>Engineering</td>\n",
       "      <td>0.153037</td>\n",
       "      <td>3</td>\n",
       "      <td>648</td>\n",
       "      <td>558</td>\n",
       "      <td>133</td>\n",
       "      <td>340</td>\n",
       "      <td>16</td>\n",
       "      <td>0.024096</td>\n",
       "      <td>73000</td>\n",
       "      <td>50000</td>\n",
       "      <td>105000</td>\n",
       "      <td>456</td>\n",
       "      <td>176</td>\n",
       "      <td>0</td>\n",
       "    </tr>\n",
       "    <tr>\n",
       "      <th>3</th>\n",
       "      <td>4</td>\n",
       "      <td>2417</td>\n",
       "      <td>NAVAL ARCHITECTURE AND MARINE ENGINEERING</td>\n",
       "      <td>1258.0</td>\n",
       "      <td>1123.0</td>\n",
       "      <td>135.0</td>\n",
       "      <td>Engineering</td>\n",
       "      <td>0.107313</td>\n",
       "      <td>16</td>\n",
       "      <td>758</td>\n",
       "      <td>1069</td>\n",
       "      <td>150</td>\n",
       "      <td>692</td>\n",
       "      <td>40</td>\n",
       "      <td>0.050125</td>\n",
       "      <td>70000</td>\n",
       "      <td>43000</td>\n",
       "      <td>80000</td>\n",
       "      <td>529</td>\n",
       "      <td>102</td>\n",
       "      <td>0</td>\n",
       "    </tr>\n",
       "    <tr>\n",
       "      <th>4</th>\n",
       "      <td>5</td>\n",
       "      <td>2405</td>\n",
       "      <td>CHEMICAL ENGINEERING</td>\n",
       "      <td>32260.0</td>\n",
       "      <td>21239.0</td>\n",
       "      <td>11021.0</td>\n",
       "      <td>Engineering</td>\n",
       "      <td>0.341631</td>\n",
       "      <td>289</td>\n",
       "      <td>25694</td>\n",
       "      <td>23170</td>\n",
       "      <td>5180</td>\n",
       "      <td>16697</td>\n",
       "      <td>1672</td>\n",
       "      <td>0.061098</td>\n",
       "      <td>65000</td>\n",
       "      <td>50000</td>\n",
       "      <td>75000</td>\n",
       "      <td>18314</td>\n",
       "      <td>4440</td>\n",
       "      <td>972</td>\n",
       "    </tr>\n",
       "    <tr>\n",
       "      <th>...</th>\n",
       "      <td>...</td>\n",
       "      <td>...</td>\n",
       "      <td>...</td>\n",
       "      <td>...</td>\n",
       "      <td>...</td>\n",
       "      <td>...</td>\n",
       "      <td>...</td>\n",
       "      <td>...</td>\n",
       "      <td>...</td>\n",
       "      <td>...</td>\n",
       "      <td>...</td>\n",
       "      <td>...</td>\n",
       "      <td>...</td>\n",
       "      <td>...</td>\n",
       "      <td>...</td>\n",
       "      <td>...</td>\n",
       "      <td>...</td>\n",
       "      <td>...</td>\n",
       "      <td>...</td>\n",
       "      <td>...</td>\n",
       "      <td>...</td>\n",
       "    </tr>\n",
       "    <tr>\n",
       "      <th>168</th>\n",
       "      <td>169</td>\n",
       "      <td>3609</td>\n",
       "      <td>ZOOLOGY</td>\n",
       "      <td>8409.0</td>\n",
       "      <td>3050.0</td>\n",
       "      <td>5359.0</td>\n",
       "      <td>Biology &amp; Life Science</td>\n",
       "      <td>0.637293</td>\n",
       "      <td>47</td>\n",
       "      <td>6259</td>\n",
       "      <td>5043</td>\n",
       "      <td>2190</td>\n",
       "      <td>3602</td>\n",
       "      <td>304</td>\n",
       "      <td>0.046320</td>\n",
       "      <td>26000</td>\n",
       "      <td>20000</td>\n",
       "      <td>39000</td>\n",
       "      <td>2771</td>\n",
       "      <td>2947</td>\n",
       "      <td>743</td>\n",
       "    </tr>\n",
       "    <tr>\n",
       "      <th>169</th>\n",
       "      <td>170</td>\n",
       "      <td>5201</td>\n",
       "      <td>EDUCATIONAL PSYCHOLOGY</td>\n",
       "      <td>2854.0</td>\n",
       "      <td>522.0</td>\n",
       "      <td>2332.0</td>\n",
       "      <td>Psychology &amp; Social Work</td>\n",
       "      <td>0.817099</td>\n",
       "      <td>7</td>\n",
       "      <td>2125</td>\n",
       "      <td>1848</td>\n",
       "      <td>572</td>\n",
       "      <td>1211</td>\n",
       "      <td>148</td>\n",
       "      <td>0.065112</td>\n",
       "      <td>25000</td>\n",
       "      <td>24000</td>\n",
       "      <td>34000</td>\n",
       "      <td>1488</td>\n",
       "      <td>615</td>\n",
       "      <td>82</td>\n",
       "    </tr>\n",
       "    <tr>\n",
       "      <th>170</th>\n",
       "      <td>171</td>\n",
       "      <td>5202</td>\n",
       "      <td>CLINICAL PSYCHOLOGY</td>\n",
       "      <td>2838.0</td>\n",
       "      <td>568.0</td>\n",
       "      <td>2270.0</td>\n",
       "      <td>Psychology &amp; Social Work</td>\n",
       "      <td>0.799859</td>\n",
       "      <td>13</td>\n",
       "      <td>2101</td>\n",
       "      <td>1724</td>\n",
       "      <td>648</td>\n",
       "      <td>1293</td>\n",
       "      <td>368</td>\n",
       "      <td>0.149048</td>\n",
       "      <td>25000</td>\n",
       "      <td>25000</td>\n",
       "      <td>40000</td>\n",
       "      <td>986</td>\n",
       "      <td>870</td>\n",
       "      <td>622</td>\n",
       "    </tr>\n",
       "    <tr>\n",
       "      <th>171</th>\n",
       "      <td>172</td>\n",
       "      <td>5203</td>\n",
       "      <td>COUNSELING PSYCHOLOGY</td>\n",
       "      <td>4626.0</td>\n",
       "      <td>931.0</td>\n",
       "      <td>3695.0</td>\n",
       "      <td>Psychology &amp; Social Work</td>\n",
       "      <td>0.798746</td>\n",
       "      <td>21</td>\n",
       "      <td>3777</td>\n",
       "      <td>3154</td>\n",
       "      <td>965</td>\n",
       "      <td>2738</td>\n",
       "      <td>214</td>\n",
       "      <td>0.053621</td>\n",
       "      <td>23400</td>\n",
       "      <td>19200</td>\n",
       "      <td>26000</td>\n",
       "      <td>2403</td>\n",
       "      <td>1245</td>\n",
       "      <td>308</td>\n",
       "    </tr>\n",
       "    <tr>\n",
       "      <th>172</th>\n",
       "      <td>173</td>\n",
       "      <td>3501</td>\n",
       "      <td>LIBRARY SCIENCE</td>\n",
       "      <td>1098.0</td>\n",
       "      <td>134.0</td>\n",
       "      <td>964.0</td>\n",
       "      <td>Education</td>\n",
       "      <td>0.877960</td>\n",
       "      <td>2</td>\n",
       "      <td>742</td>\n",
       "      <td>593</td>\n",
       "      <td>237</td>\n",
       "      <td>410</td>\n",
       "      <td>87</td>\n",
       "      <td>0.104946</td>\n",
       "      <td>22000</td>\n",
       "      <td>20000</td>\n",
       "      <td>22000</td>\n",
       "      <td>288</td>\n",
       "      <td>338</td>\n",
       "      <td>192</td>\n",
       "    </tr>\n",
       "  </tbody>\n",
       "</table>\n",
       "<p>173 rows × 21 columns</p>\n",
       "</div>"
      ],
      "text/plain": [
       "     Rank  Major_code                                      Major    Total  \\\n",
       "0       1        2419                      PETROLEUM ENGINEERING   2339.0   \n",
       "1       2        2416             MINING AND MINERAL ENGINEERING    756.0   \n",
       "2       3        2415                  METALLURGICAL ENGINEERING    856.0   \n",
       "3       4        2417  NAVAL ARCHITECTURE AND MARINE ENGINEERING   1258.0   \n",
       "4       5        2405                       CHEMICAL ENGINEERING  32260.0   \n",
       "..    ...         ...                                        ...      ...   \n",
       "168   169        3609                                    ZOOLOGY   8409.0   \n",
       "169   170        5201                     EDUCATIONAL PSYCHOLOGY   2854.0   \n",
       "170   171        5202                        CLINICAL PSYCHOLOGY   2838.0   \n",
       "171   172        5203                      COUNSELING PSYCHOLOGY   4626.0   \n",
       "172   173        3501                            LIBRARY SCIENCE   1098.0   \n",
       "\n",
       "         Men    Women            Major_category  ShareWomen  Sample_size  \\\n",
       "0     2057.0    282.0               Engineering    0.120564           36   \n",
       "1      679.0     77.0               Engineering    0.101852            7   \n",
       "2      725.0    131.0               Engineering    0.153037            3   \n",
       "3     1123.0    135.0               Engineering    0.107313           16   \n",
       "4    21239.0  11021.0               Engineering    0.341631          289   \n",
       "..       ...      ...                       ...         ...          ...   \n",
       "168   3050.0   5359.0    Biology & Life Science    0.637293           47   \n",
       "169    522.0   2332.0  Psychology & Social Work    0.817099            7   \n",
       "170    568.0   2270.0  Psychology & Social Work    0.799859           13   \n",
       "171    931.0   3695.0  Psychology & Social Work    0.798746           21   \n",
       "172    134.0    964.0                 Education    0.877960            2   \n",
       "\n",
       "     Employed  Full_time  Part_time  Full_time_year_round  Unemployed  \\\n",
       "0        1976       1849        270                  1207          37   \n",
       "1         640        556        170                   388          85   \n",
       "2         648        558        133                   340          16   \n",
       "3         758       1069        150                   692          40   \n",
       "4       25694      23170       5180                 16697        1672   \n",
       "..        ...        ...        ...                   ...         ...   \n",
       "168      6259       5043       2190                  3602         304   \n",
       "169      2125       1848        572                  1211         148   \n",
       "170      2101       1724        648                  1293         368   \n",
       "171      3777       3154        965                  2738         214   \n",
       "172       742        593        237                   410          87   \n",
       "\n",
       "     Unemployment_rate  Median  P25th   P75th  College_jobs  Non_college_jobs  \\\n",
       "0             0.018381  110000  95000  125000          1534               364   \n",
       "1             0.117241   75000  55000   90000           350               257   \n",
       "2             0.024096   73000  50000  105000           456               176   \n",
       "3             0.050125   70000  43000   80000           529               102   \n",
       "4             0.061098   65000  50000   75000         18314              4440   \n",
       "..                 ...     ...    ...     ...           ...               ...   \n",
       "168           0.046320   26000  20000   39000          2771              2947   \n",
       "169           0.065112   25000  24000   34000          1488               615   \n",
       "170           0.149048   25000  25000   40000           986               870   \n",
       "171           0.053621   23400  19200   26000          2403              1245   \n",
       "172           0.104946   22000  20000   22000           288               338   \n",
       "\n",
       "     Low_wage_jobs  \n",
       "0              193  \n",
       "1               50  \n",
       "2                0  \n",
       "3                0  \n",
       "4              972  \n",
       "..             ...  \n",
       "168            743  \n",
       "169             82  \n",
       "170            622  \n",
       "171            308  \n",
       "172            192  \n",
       "\n",
       "[173 rows x 21 columns]"
      ]
     },
     "execution_count": 2,
     "metadata": {},
     "output_type": "execute_result"
    }
   ],
   "source": [
    "recent_grads = pd.read_csv('https://raw.githubusercontent.com/fivethirtyeight/data/master/college-majors/recent-grads.csv')\n",
    "recent_grads"
   ]
  },
  {
   "cell_type": "code",
   "execution_count": 16,
   "metadata": {},
   "outputs": [
    {
     "data": {
      "text/html": [
       "<div>\n",
       "<style scoped>\n",
       "    .dataframe tbody tr th:only-of-type {\n",
       "        vertical-align: middle;\n",
       "    }\n",
       "\n",
       "    .dataframe tbody tr th {\n",
       "        vertical-align: top;\n",
       "    }\n",
       "\n",
       "    .dataframe thead th {\n",
       "        text-align: right;\n",
       "    }\n",
       "</style>\n",
       "<table border=\"1\" class=\"dataframe\">\n",
       "  <thead>\n",
       "    <tr style=\"text-align: right;\">\n",
       "      <th></th>\n",
       "      <th>Rank</th>\n",
       "      <th>Major_code</th>\n",
       "      <th>Major</th>\n",
       "      <th>Total</th>\n",
       "      <th>Men</th>\n",
       "      <th>Women</th>\n",
       "      <th>Major_category</th>\n",
       "      <th>ShareWomen</th>\n",
       "      <th>Sample_size</th>\n",
       "      <th>Employed</th>\n",
       "      <th>Full_time</th>\n",
       "      <th>Part_time</th>\n",
       "      <th>Full_time_year_round</th>\n",
       "      <th>Unemployed</th>\n",
       "      <th>Unemployment_rate</th>\n",
       "      <th>Median</th>\n",
       "      <th>P25th</th>\n",
       "      <th>P75th</th>\n",
       "      <th>College_jobs</th>\n",
       "      <th>Non_college_jobs</th>\n",
       "      <th>Low_wage_jobs</th>\n",
       "    </tr>\n",
       "  </thead>\n",
       "  <tbody>\n",
       "    <tr>\n",
       "      <th>0</th>\n",
       "      <td>1</td>\n",
       "      <td>2419</td>\n",
       "      <td>Petroleum Engineering</td>\n",
       "      <td>2339.0</td>\n",
       "      <td>2057.0</td>\n",
       "      <td>282.0</td>\n",
       "      <td>Engineering</td>\n",
       "      <td>0.120564</td>\n",
       "      <td>36</td>\n",
       "      <td>1976</td>\n",
       "      <td>1849</td>\n",
       "      <td>270</td>\n",
       "      <td>1207</td>\n",
       "      <td>37</td>\n",
       "      <td>0.018381</td>\n",
       "      <td>110000</td>\n",
       "      <td>95000</td>\n",
       "      <td>125000</td>\n",
       "      <td>1534</td>\n",
       "      <td>364</td>\n",
       "      <td>193</td>\n",
       "    </tr>\n",
       "    <tr>\n",
       "      <th>1</th>\n",
       "      <td>2</td>\n",
       "      <td>2416</td>\n",
       "      <td>Mining And Mineral Engineering</td>\n",
       "      <td>756.0</td>\n",
       "      <td>679.0</td>\n",
       "      <td>77.0</td>\n",
       "      <td>Engineering</td>\n",
       "      <td>0.101852</td>\n",
       "      <td>7</td>\n",
       "      <td>640</td>\n",
       "      <td>556</td>\n",
       "      <td>170</td>\n",
       "      <td>388</td>\n",
       "      <td>85</td>\n",
       "      <td>0.117241</td>\n",
       "      <td>75000</td>\n",
       "      <td>55000</td>\n",
       "      <td>90000</td>\n",
       "      <td>350</td>\n",
       "      <td>257</td>\n",
       "      <td>50</td>\n",
       "    </tr>\n",
       "    <tr>\n",
       "      <th>2</th>\n",
       "      <td>3</td>\n",
       "      <td>2415</td>\n",
       "      <td>Metallurgical Engineering</td>\n",
       "      <td>856.0</td>\n",
       "      <td>725.0</td>\n",
       "      <td>131.0</td>\n",
       "      <td>Engineering</td>\n",
       "      <td>0.153037</td>\n",
       "      <td>3</td>\n",
       "      <td>648</td>\n",
       "      <td>558</td>\n",
       "      <td>133</td>\n",
       "      <td>340</td>\n",
       "      <td>16</td>\n",
       "      <td>0.024096</td>\n",
       "      <td>73000</td>\n",
       "      <td>50000</td>\n",
       "      <td>105000</td>\n",
       "      <td>456</td>\n",
       "      <td>176</td>\n",
       "      <td>0</td>\n",
       "    </tr>\n",
       "    <tr>\n",
       "      <th>3</th>\n",
       "      <td>4</td>\n",
       "      <td>2417</td>\n",
       "      <td>Naval Architecture And Marine Engineering</td>\n",
       "      <td>1258.0</td>\n",
       "      <td>1123.0</td>\n",
       "      <td>135.0</td>\n",
       "      <td>Engineering</td>\n",
       "      <td>0.107313</td>\n",
       "      <td>16</td>\n",
       "      <td>758</td>\n",
       "      <td>1069</td>\n",
       "      <td>150</td>\n",
       "      <td>692</td>\n",
       "      <td>40</td>\n",
       "      <td>0.050125</td>\n",
       "      <td>70000</td>\n",
       "      <td>43000</td>\n",
       "      <td>80000</td>\n",
       "      <td>529</td>\n",
       "      <td>102</td>\n",
       "      <td>0</td>\n",
       "    </tr>\n",
       "    <tr>\n",
       "      <th>4</th>\n",
       "      <td>5</td>\n",
       "      <td>2405</td>\n",
       "      <td>Chemical Engineering</td>\n",
       "      <td>32260.0</td>\n",
       "      <td>21239.0</td>\n",
       "      <td>11021.0</td>\n",
       "      <td>Engineering</td>\n",
       "      <td>0.341631</td>\n",
       "      <td>289</td>\n",
       "      <td>25694</td>\n",
       "      <td>23170</td>\n",
       "      <td>5180</td>\n",
       "      <td>16697</td>\n",
       "      <td>1672</td>\n",
       "      <td>0.061098</td>\n",
       "      <td>65000</td>\n",
       "      <td>50000</td>\n",
       "      <td>75000</td>\n",
       "      <td>18314</td>\n",
       "      <td>4440</td>\n",
       "      <td>972</td>\n",
       "    </tr>\n",
       "    <tr>\n",
       "      <th>...</th>\n",
       "      <td>...</td>\n",
       "      <td>...</td>\n",
       "      <td>...</td>\n",
       "      <td>...</td>\n",
       "      <td>...</td>\n",
       "      <td>...</td>\n",
       "      <td>...</td>\n",
       "      <td>...</td>\n",
       "      <td>...</td>\n",
       "      <td>...</td>\n",
       "      <td>...</td>\n",
       "      <td>...</td>\n",
       "      <td>...</td>\n",
       "      <td>...</td>\n",
       "      <td>...</td>\n",
       "      <td>...</td>\n",
       "      <td>...</td>\n",
       "      <td>...</td>\n",
       "      <td>...</td>\n",
       "      <td>...</td>\n",
       "      <td>...</td>\n",
       "    </tr>\n",
       "    <tr>\n",
       "      <th>168</th>\n",
       "      <td>169</td>\n",
       "      <td>3609</td>\n",
       "      <td>Zoology</td>\n",
       "      <td>8409.0</td>\n",
       "      <td>3050.0</td>\n",
       "      <td>5359.0</td>\n",
       "      <td>Biology &amp; Life Science</td>\n",
       "      <td>0.637293</td>\n",
       "      <td>47</td>\n",
       "      <td>6259</td>\n",
       "      <td>5043</td>\n",
       "      <td>2190</td>\n",
       "      <td>3602</td>\n",
       "      <td>304</td>\n",
       "      <td>0.046320</td>\n",
       "      <td>26000</td>\n",
       "      <td>20000</td>\n",
       "      <td>39000</td>\n",
       "      <td>2771</td>\n",
       "      <td>2947</td>\n",
       "      <td>743</td>\n",
       "    </tr>\n",
       "    <tr>\n",
       "      <th>169</th>\n",
       "      <td>170</td>\n",
       "      <td>5201</td>\n",
       "      <td>Educational Psychology</td>\n",
       "      <td>2854.0</td>\n",
       "      <td>522.0</td>\n",
       "      <td>2332.0</td>\n",
       "      <td>Psychology &amp; Social Work</td>\n",
       "      <td>0.817099</td>\n",
       "      <td>7</td>\n",
       "      <td>2125</td>\n",
       "      <td>1848</td>\n",
       "      <td>572</td>\n",
       "      <td>1211</td>\n",
       "      <td>148</td>\n",
       "      <td>0.065112</td>\n",
       "      <td>25000</td>\n",
       "      <td>24000</td>\n",
       "      <td>34000</td>\n",
       "      <td>1488</td>\n",
       "      <td>615</td>\n",
       "      <td>82</td>\n",
       "    </tr>\n",
       "    <tr>\n",
       "      <th>170</th>\n",
       "      <td>171</td>\n",
       "      <td>5202</td>\n",
       "      <td>Clinical Psychology</td>\n",
       "      <td>2838.0</td>\n",
       "      <td>568.0</td>\n",
       "      <td>2270.0</td>\n",
       "      <td>Psychology &amp; Social Work</td>\n",
       "      <td>0.799859</td>\n",
       "      <td>13</td>\n",
       "      <td>2101</td>\n",
       "      <td>1724</td>\n",
       "      <td>648</td>\n",
       "      <td>1293</td>\n",
       "      <td>368</td>\n",
       "      <td>0.149048</td>\n",
       "      <td>25000</td>\n",
       "      <td>25000</td>\n",
       "      <td>40000</td>\n",
       "      <td>986</td>\n",
       "      <td>870</td>\n",
       "      <td>622</td>\n",
       "    </tr>\n",
       "    <tr>\n",
       "      <th>171</th>\n",
       "      <td>172</td>\n",
       "      <td>5203</td>\n",
       "      <td>Counseling Psychology</td>\n",
       "      <td>4626.0</td>\n",
       "      <td>931.0</td>\n",
       "      <td>3695.0</td>\n",
       "      <td>Psychology &amp; Social Work</td>\n",
       "      <td>0.798746</td>\n",
       "      <td>21</td>\n",
       "      <td>3777</td>\n",
       "      <td>3154</td>\n",
       "      <td>965</td>\n",
       "      <td>2738</td>\n",
       "      <td>214</td>\n",
       "      <td>0.053621</td>\n",
       "      <td>23400</td>\n",
       "      <td>19200</td>\n",
       "      <td>26000</td>\n",
       "      <td>2403</td>\n",
       "      <td>1245</td>\n",
       "      <td>308</td>\n",
       "    </tr>\n",
       "    <tr>\n",
       "      <th>172</th>\n",
       "      <td>173</td>\n",
       "      <td>3501</td>\n",
       "      <td>Library Science</td>\n",
       "      <td>1098.0</td>\n",
       "      <td>134.0</td>\n",
       "      <td>964.0</td>\n",
       "      <td>Education</td>\n",
       "      <td>0.877960</td>\n",
       "      <td>2</td>\n",
       "      <td>742</td>\n",
       "      <td>593</td>\n",
       "      <td>237</td>\n",
       "      <td>410</td>\n",
       "      <td>87</td>\n",
       "      <td>0.104946</td>\n",
       "      <td>22000</td>\n",
       "      <td>20000</td>\n",
       "      <td>22000</td>\n",
       "      <td>288</td>\n",
       "      <td>338</td>\n",
       "      <td>192</td>\n",
       "    </tr>\n",
       "  </tbody>\n",
       "</table>\n",
       "<p>173 rows × 21 columns</p>\n",
       "</div>"
      ],
      "text/plain": [
       "     Rank  Major_code                                      Major    Total  \\\n",
       "0       1        2419                      Petroleum Engineering   2339.0   \n",
       "1       2        2416             Mining And Mineral Engineering    756.0   \n",
       "2       3        2415                  Metallurgical Engineering    856.0   \n",
       "3       4        2417  Naval Architecture And Marine Engineering   1258.0   \n",
       "4       5        2405                       Chemical Engineering  32260.0   \n",
       "..    ...         ...                                        ...      ...   \n",
       "168   169        3609                                    Zoology   8409.0   \n",
       "169   170        5201                     Educational Psychology   2854.0   \n",
       "170   171        5202                        Clinical Psychology   2838.0   \n",
       "171   172        5203                      Counseling Psychology   4626.0   \n",
       "172   173        3501                            Library Science   1098.0   \n",
       "\n",
       "         Men    Women            Major_category  ShareWomen  Sample_size  \\\n",
       "0     2057.0    282.0               Engineering    0.120564           36   \n",
       "1      679.0     77.0               Engineering    0.101852            7   \n",
       "2      725.0    131.0               Engineering    0.153037            3   \n",
       "3     1123.0    135.0               Engineering    0.107313           16   \n",
       "4    21239.0  11021.0               Engineering    0.341631          289   \n",
       "..       ...      ...                       ...         ...          ...   \n",
       "168   3050.0   5359.0    Biology & Life Science    0.637293           47   \n",
       "169    522.0   2332.0  Psychology & Social Work    0.817099            7   \n",
       "170    568.0   2270.0  Psychology & Social Work    0.799859           13   \n",
       "171    931.0   3695.0  Psychology & Social Work    0.798746           21   \n",
       "172    134.0    964.0                 Education    0.877960            2   \n",
       "\n",
       "     Employed  Full_time  Part_time  Full_time_year_round  Unemployed  \\\n",
       "0        1976       1849        270                  1207          37   \n",
       "1         640        556        170                   388          85   \n",
       "2         648        558        133                   340          16   \n",
       "3         758       1069        150                   692          40   \n",
       "4       25694      23170       5180                 16697        1672   \n",
       "..        ...        ...        ...                   ...         ...   \n",
       "168      6259       5043       2190                  3602         304   \n",
       "169      2125       1848        572                  1211         148   \n",
       "170      2101       1724        648                  1293         368   \n",
       "171      3777       3154        965                  2738         214   \n",
       "172       742        593        237                   410          87   \n",
       "\n",
       "     Unemployment_rate  Median  P25th   P75th  College_jobs  Non_college_jobs  \\\n",
       "0             0.018381  110000  95000  125000          1534               364   \n",
       "1             0.117241   75000  55000   90000           350               257   \n",
       "2             0.024096   73000  50000  105000           456               176   \n",
       "3             0.050125   70000  43000   80000           529               102   \n",
       "4             0.061098   65000  50000   75000         18314              4440   \n",
       "..                 ...     ...    ...     ...           ...               ...   \n",
       "168           0.046320   26000  20000   39000          2771              2947   \n",
       "169           0.065112   25000  24000   34000          1488               615   \n",
       "170           0.149048   25000  25000   40000           986               870   \n",
       "171           0.053621   23400  19200   26000          2403              1245   \n",
       "172           0.104946   22000  20000   22000           288               338   \n",
       "\n",
       "     Low_wage_jobs  \n",
       "0              193  \n",
       "1               50  \n",
       "2                0  \n",
       "3                0  \n",
       "4              972  \n",
       "..             ...  \n",
       "168            743  \n",
       "169             82  \n",
       "170            622  \n",
       "171            308  \n",
       "172            192  \n",
       "\n",
       "[173 rows x 21 columns]"
      ]
     },
     "execution_count": 16,
     "metadata": {},
     "output_type": "execute_result"
    }
   ],
   "source": [
    "major_processed = recent_grads\n",
    "major_processed['Major'] = major_processed['Major'].str.title()\n",
    "major_processed = major_processed.sort_values(['Median'], ascending=False)\n",
    "major_processed "
   ]
  },
  {
   "cell_type": "code",
   "execution_count": 39,
   "metadata": {},
   "outputs": [
    {
     "name": "stderr",
     "output_type": "stream",
     "text": [
      "<ipython-input-39-53ca3457bf46>:6: SettingWithCopyWarning: \n",
      "A value is trying to be set on a copy of a slice from a DataFrame.\n",
      "Try using .loc[row_indexer,col_indexer] = value instead\n",
      "\n",
      "See the caveats in the documentation: https://pandas.pydata.org/pandas-docs/stable/user_guide/indexing.html#returning-a-view-versus-a-copy\n",
      "  by_major_category['Median_mul_sample'] = by_major_category['Median'] * by_major_category['Sample_size']\n"
     ]
    },
    {
     "data": {
      "text/html": [
       "<div>\n",
       "<style scoped>\n",
       "    .dataframe tbody tr th:only-of-type {\n",
       "        vertical-align: middle;\n",
       "    }\n",
       "\n",
       "    .dataframe tbody tr th {\n",
       "        vertical-align: top;\n",
       "    }\n",
       "\n",
       "    .dataframe thead th {\n",
       "        text-align: right;\n",
       "    }\n",
       "</style>\n",
       "<table border=\"1\" class=\"dataframe\">\n",
       "  <thead>\n",
       "    <tr style=\"text-align: right;\">\n",
       "      <th></th>\n",
       "      <th>Major_category</th>\n",
       "      <th>Men</th>\n",
       "      <th>Women</th>\n",
       "      <th>Total</th>\n",
       "      <th>Median_mul_sample</th>\n",
       "      <th>Sample_size</th>\n",
       "      <th>MedianSalary</th>\n",
       "      <th>ShareWomen</th>\n",
       "    </tr>\n",
       "  </thead>\n",
       "  <tbody>\n",
       "    <tr>\n",
       "      <th>8</th>\n",
       "      <td>Health</td>\n",
       "      <td>75517.0</td>\n",
       "      <td>387713.0</td>\n",
       "      <td>463230.0</td>\n",
       "      <td>171017300</td>\n",
       "      <td>3914</td>\n",
       "      <td>43693.740419</td>\n",
       "      <td>0.836977</td>\n",
       "    </tr>\n",
       "    <tr>\n",
       "      <th>6</th>\n",
       "      <td>Education</td>\n",
       "      <td>103526.0</td>\n",
       "      <td>455603.0</td>\n",
       "      <td>559129.0</td>\n",
       "      <td>153467800</td>\n",
       "      <td>4742</td>\n",
       "      <td>32363.517503</td>\n",
       "      <td>0.814844</td>\n",
       "    </tr>\n",
       "    <tr>\n",
       "      <th>14</th>\n",
       "      <td>Psychology &amp; Social Work</td>\n",
       "      <td>98115.0</td>\n",
       "      <td>382892.0</td>\n",
       "      <td>481007.0</td>\n",
       "      <td>99325400</td>\n",
       "      <td>3180</td>\n",
       "      <td>31234.402516</td>\n",
       "      <td>0.796022</td>\n",
       "    </tr>\n",
       "    <tr>\n",
       "      <th>11</th>\n",
       "      <td>Interdisciplinary</td>\n",
       "      <td>2817.0</td>\n",
       "      <td>9479.0</td>\n",
       "      <td>12296.0</td>\n",
       "      <td>4480000</td>\n",
       "      <td>128</td>\n",
       "      <td>35000.000000</td>\n",
       "      <td>0.770901</td>\n",
       "    </tr>\n",
       "    <tr>\n",
       "      <th>4</th>\n",
       "      <td>Communications &amp; Journalism</td>\n",
       "      <td>131921.0</td>\n",
       "      <td>260680.0</td>\n",
       "      <td>392601.0</td>\n",
       "      <td>156600000</td>\n",
       "      <td>4508</td>\n",
       "      <td>34738.243123</td>\n",
       "      <td>0.663982</td>\n",
       "    </tr>\n",
       "    <tr>\n",
       "      <th>1</th>\n",
       "      <td>Arts</td>\n",
       "      <td>134390.0</td>\n",
       "      <td>222740.0</td>\n",
       "      <td>357130.0</td>\n",
       "      <td>104469500</td>\n",
       "      <td>3260</td>\n",
       "      <td>32045.858896</td>\n",
       "      <td>0.623694</td>\n",
       "    </tr>\n",
       "    <tr>\n",
       "      <th>9</th>\n",
       "      <td>Humanities &amp; Liberal Arts</td>\n",
       "      <td>272846.0</td>\n",
       "      <td>440622.0</td>\n",
       "      <td>713468.0</td>\n",
       "      <td>171907000</td>\n",
       "      <td>5340</td>\n",
       "      <td>32192.322097</td>\n",
       "      <td>0.617578</td>\n",
       "    </tr>\n",
       "    <tr>\n",
       "      <th>2</th>\n",
       "      <td>Biology &amp; Life Science</td>\n",
       "      <td>184919.0</td>\n",
       "      <td>268943.0</td>\n",
       "      <td>453862.0</td>\n",
       "      <td>79655100</td>\n",
       "      <td>2317</td>\n",
       "      <td>34378.549849</td>\n",
       "      <td>0.592566</td>\n",
       "    </tr>\n",
       "    <tr>\n",
       "      <th>10</th>\n",
       "      <td>Industrial Arts &amp; Consumer Services</td>\n",
       "      <td>103781.0</td>\n",
       "      <td>126011.0</td>\n",
       "      <td>229792.0</td>\n",
       "      <td>74011800</td>\n",
       "      <td>2165</td>\n",
       "      <td>34185.588915</td>\n",
       "      <td>0.548370</td>\n",
       "    </tr>\n",
       "    <tr>\n",
       "      <th>15</th>\n",
       "      <td>Social Science</td>\n",
       "      <td>256834.0</td>\n",
       "      <td>273132.0</td>\n",
       "      <td>529966.0</td>\n",
       "      <td>179576900</td>\n",
       "      <td>4581</td>\n",
       "      <td>39200.371098</td>\n",
       "      <td>0.515376</td>\n",
       "    </tr>\n",
       "    <tr>\n",
       "      <th>12</th>\n",
       "      <td>Law &amp; Public Policy</td>\n",
       "      <td>91129.0</td>\n",
       "      <td>87978.0</td>\n",
       "      <td>179107.0</td>\n",
       "      <td>68954000</td>\n",
       "      <td>1935</td>\n",
       "      <td>35635.142119</td>\n",
       "      <td>0.491204</td>\n",
       "    </tr>\n",
       "    <tr>\n",
       "      <th>3</th>\n",
       "      <td>Business</td>\n",
       "      <td>667852.0</td>\n",
       "      <td>634524.0</td>\n",
       "      <td>1302376.0</td>\n",
       "      <td>633997000</td>\n",
       "      <td>15505</td>\n",
       "      <td>40889.841986</td>\n",
       "      <td>0.487205</td>\n",
       "    </tr>\n",
       "    <tr>\n",
       "      <th>13</th>\n",
       "      <td>Physical Sciences</td>\n",
       "      <td>95390.0</td>\n",
       "      <td>90089.0</td>\n",
       "      <td>185479.0</td>\n",
       "      <td>43748800</td>\n",
       "      <td>1137</td>\n",
       "      <td>38477.396658</td>\n",
       "      <td>0.485710</td>\n",
       "    </tr>\n",
       "    <tr>\n",
       "      <th>0</th>\n",
       "      <td>Agriculture &amp; Natural Resources</td>\n",
       "      <td>40357.0</td>\n",
       "      <td>35263.0</td>\n",
       "      <td>75620.0</td>\n",
       "      <td>38006000</td>\n",
       "      <td>1068</td>\n",
       "      <td>35586.142322</td>\n",
       "      <td>0.466318</td>\n",
       "    </tr>\n",
       "    <tr>\n",
       "      <th>5</th>\n",
       "      <td>Computers &amp; Mathematics</td>\n",
       "      <td>208725.0</td>\n",
       "      <td>90283.0</td>\n",
       "      <td>299008.0</td>\n",
       "      <td>134401200</td>\n",
       "      <td>2860</td>\n",
       "      <td>46993.426573</td>\n",
       "      <td>0.301942</td>\n",
       "    </tr>\n",
       "    <tr>\n",
       "      <th>7</th>\n",
       "      <td>Engineering</td>\n",
       "      <td>408307.0</td>\n",
       "      <td>129276.0</td>\n",
       "      <td>537583.0</td>\n",
       "      <td>275441500</td>\n",
       "      <td>4926</td>\n",
       "      <td>55915.854649</td>\n",
       "      <td>0.240476</td>\n",
       "    </tr>\n",
       "  </tbody>\n",
       "</table>\n",
       "</div>"
      ],
      "text/plain": [
       "                         Major_category       Men     Women      Total  \\\n",
       "8                                Health   75517.0  387713.0   463230.0   \n",
       "6                             Education  103526.0  455603.0   559129.0   \n",
       "14             Psychology & Social Work   98115.0  382892.0   481007.0   \n",
       "11                    Interdisciplinary    2817.0    9479.0    12296.0   \n",
       "4           Communications & Journalism  131921.0  260680.0   392601.0   \n",
       "1                                  Arts  134390.0  222740.0   357130.0   \n",
       "9             Humanities & Liberal Arts  272846.0  440622.0   713468.0   \n",
       "2                Biology & Life Science  184919.0  268943.0   453862.0   \n",
       "10  Industrial Arts & Consumer Services  103781.0  126011.0   229792.0   \n",
       "15                       Social Science  256834.0  273132.0   529966.0   \n",
       "12                  Law & Public Policy   91129.0   87978.0   179107.0   \n",
       "3                              Business  667852.0  634524.0  1302376.0   \n",
       "13                    Physical Sciences   95390.0   90089.0   185479.0   \n",
       "0       Agriculture & Natural Resources   40357.0   35263.0    75620.0   \n",
       "5               Computers & Mathematics  208725.0   90283.0   299008.0   \n",
       "7                           Engineering  408307.0  129276.0   537583.0   \n",
       "\n",
       "    Median_mul_sample  Sample_size  MedianSalary  ShareWomen  \n",
       "8           171017300         3914  43693.740419    0.836977  \n",
       "6           153467800         4742  32363.517503    0.814844  \n",
       "14           99325400         3180  31234.402516    0.796022  \n",
       "11            4480000          128  35000.000000    0.770901  \n",
       "4           156600000         4508  34738.243123    0.663982  \n",
       "1           104469500         3260  32045.858896    0.623694  \n",
       "9           171907000         5340  32192.322097    0.617578  \n",
       "2            79655100         2317  34378.549849    0.592566  \n",
       "10           74011800         2165  34185.588915    0.548370  \n",
       "15          179576900         4581  39200.371098    0.515376  \n",
       "12           68954000         1935  35635.142119    0.491204  \n",
       "3           633997000        15505  40889.841986    0.487205  \n",
       "13           43748800         1137  38477.396658    0.485710  \n",
       "0            38006000         1068  35586.142322    0.466318  \n",
       "5           134401200         2860  46993.426573    0.301942  \n",
       "7           275441500         4926  55915.854649    0.240476  "
      ]
     },
     "execution_count": 39,
     "metadata": {},
     "output_type": "execute_result"
    }
   ],
   "source": [
    "# Aggregating by Category\n",
    "\n",
    "by_major_category = major_processed\n",
    "by_major_category = by_major_category[~by_major_category['Total'].isnull()]\n",
    "\n",
    "by_major_category['Median_mul_sample'] = by_major_category['Median'] * by_major_category['Sample_size']\n",
    "\n",
    "by_major_category = by_major_category.groupby('Major_category').agg(Men=('Men','sum'), \n",
    "                                                                    Women=('Women','sum'),\n",
    "                                                                    Total=('Total','sum'),\n",
    "                                                                    Median_mul_sample =  ('Median_mul_sample','sum' ),\n",
    "                                                                    Sample_size = ('Sample_size' , 'sum'))\n",
    "\n",
    "by_major_category['MedianSalary'] = by_major_category['Median_mul_sample'] / by_major_category['Sample_size']\n",
    "\n",
    "by_major_category['ShareWomen'] = by_major_category['Women'] / by_major_category['Total']\n",
    "by_major_category = by_major_category.reset_index()\n",
    "by_major_category = by_major_category.sort_values('ShareWomen', ascending=False)\n",
    "by_major_category"
   ]
  },
  {
   "cell_type": "markdown",
   "metadata": {},
   "source": [
    "### What categories of majors makes more money than others?"
   ]
  },
  {
   "cell_type": "code",
   "execution_count": 5,
   "metadata": {},
   "outputs": [
    {
     "data": {
      "text/html": [
       "<div>\n",
       "<style scoped>\n",
       "    .dataframe tbody tr th:only-of-type {\n",
       "        vertical-align: middle;\n",
       "    }\n",
       "\n",
       "    .dataframe tbody tr th {\n",
       "        vertical-align: top;\n",
       "    }\n",
       "\n",
       "    .dataframe thead th {\n",
       "        text-align: right;\n",
       "    }\n",
       "</style>\n",
       "<table border=\"1\" class=\"dataframe\">\n",
       "  <thead>\n",
       "    <tr style=\"text-align: right;\">\n",
       "      <th></th>\n",
       "      <th>Rank</th>\n",
       "      <th>Major_code</th>\n",
       "      <th>Major</th>\n",
       "      <th>Total</th>\n",
       "      <th>Men</th>\n",
       "      <th>Women</th>\n",
       "      <th>Major_category</th>\n",
       "      <th>ShareWomen</th>\n",
       "      <th>Sample_size</th>\n",
       "      <th>Employed</th>\n",
       "      <th>Full_time</th>\n",
       "      <th>Part_time</th>\n",
       "      <th>Full_time_year_round</th>\n",
       "      <th>Unemployed</th>\n",
       "      <th>Unemployment_rate</th>\n",
       "      <th>Median</th>\n",
       "      <th>P25th</th>\n",
       "      <th>P75th</th>\n",
       "      <th>College_jobs</th>\n",
       "      <th>Non_college_jobs</th>\n",
       "      <th>Low_wage_jobs</th>\n",
       "    </tr>\n",
       "  </thead>\n",
       "  <tbody>\n",
       "    <tr>\n",
       "      <th>4</th>\n",
       "      <td>5</td>\n",
       "      <td>2405</td>\n",
       "      <td>Chemical Engineering</td>\n",
       "      <td>32260.0</td>\n",
       "      <td>21239.0</td>\n",
       "      <td>11021.0</td>\n",
       "      <td>Engineering</td>\n",
       "      <td>0.341631</td>\n",
       "      <td>289</td>\n",
       "      <td>25694</td>\n",
       "      <td>23170</td>\n",
       "      <td>5180</td>\n",
       "      <td>16697</td>\n",
       "      <td>1672</td>\n",
       "      <td>0.061098</td>\n",
       "      <td>65000</td>\n",
       "      <td>50000</td>\n",
       "      <td>75000</td>\n",
       "      <td>18314</td>\n",
       "      <td>4440</td>\n",
       "      <td>972</td>\n",
       "    </tr>\n",
       "    <tr>\n",
       "      <th>9</th>\n",
       "      <td>10</td>\n",
       "      <td>2408</td>\n",
       "      <td>Electrical Engineering</td>\n",
       "      <td>81527.0</td>\n",
       "      <td>65511.0</td>\n",
       "      <td>16016.0</td>\n",
       "      <td>Engineering</td>\n",
       "      <td>0.196450</td>\n",
       "      <td>631</td>\n",
       "      <td>61928</td>\n",
       "      <td>55450</td>\n",
       "      <td>12695</td>\n",
       "      <td>41413</td>\n",
       "      <td>3895</td>\n",
       "      <td>0.059174</td>\n",
       "      <td>60000</td>\n",
       "      <td>45000</td>\n",
       "      <td>72000</td>\n",
       "      <td>45829</td>\n",
       "      <td>10874</td>\n",
       "      <td>3170</td>\n",
       "    </tr>\n",
       "    <tr>\n",
       "      <th>8</th>\n",
       "      <td>9</td>\n",
       "      <td>2414</td>\n",
       "      <td>Mechanical Engineering</td>\n",
       "      <td>91227.0</td>\n",
       "      <td>80320.0</td>\n",
       "      <td>10907.0</td>\n",
       "      <td>Engineering</td>\n",
       "      <td>0.119559</td>\n",
       "      <td>1029</td>\n",
       "      <td>76442</td>\n",
       "      <td>71298</td>\n",
       "      <td>13101</td>\n",
       "      <td>54639</td>\n",
       "      <td>4650</td>\n",
       "      <td>0.057342</td>\n",
       "      <td>60000</td>\n",
       "      <td>48000</td>\n",
       "      <td>70000</td>\n",
       "      <td>52844</td>\n",
       "      <td>16384</td>\n",
       "      <td>3253</td>\n",
       "    </tr>\n",
       "    <tr>\n",
       "      <th>11</th>\n",
       "      <td>12</td>\n",
       "      <td>2401</td>\n",
       "      <td>Aerospace Engineering</td>\n",
       "      <td>15058.0</td>\n",
       "      <td>12953.0</td>\n",
       "      <td>2105.0</td>\n",
       "      <td>Engineering</td>\n",
       "      <td>0.139793</td>\n",
       "      <td>147</td>\n",
       "      <td>11391</td>\n",
       "      <td>11106</td>\n",
       "      <td>2724</td>\n",
       "      <td>8790</td>\n",
       "      <td>794</td>\n",
       "      <td>0.065162</td>\n",
       "      <td>60000</td>\n",
       "      <td>42000</td>\n",
       "      <td>70000</td>\n",
       "      <td>8184</td>\n",
       "      <td>2425</td>\n",
       "      <td>372</td>\n",
       "    </tr>\n",
       "    <tr>\n",
       "      <th>10</th>\n",
       "      <td>11</td>\n",
       "      <td>2407</td>\n",
       "      <td>Computer Engineering</td>\n",
       "      <td>41542.0</td>\n",
       "      <td>33258.0</td>\n",
       "      <td>8284.0</td>\n",
       "      <td>Engineering</td>\n",
       "      <td>0.199413</td>\n",
       "      <td>399</td>\n",
       "      <td>32506</td>\n",
       "      <td>30315</td>\n",
       "      <td>5146</td>\n",
       "      <td>23621</td>\n",
       "      <td>2275</td>\n",
       "      <td>0.065409</td>\n",
       "      <td>60000</td>\n",
       "      <td>45000</td>\n",
       "      <td>75000</td>\n",
       "      <td>23694</td>\n",
       "      <td>5721</td>\n",
       "      <td>980</td>\n",
       "    </tr>\n",
       "    <tr>\n",
       "      <th>16</th>\n",
       "      <td>17</td>\n",
       "      <td>2412</td>\n",
       "      <td>Industrial And Manufacturing Engineering</td>\n",
       "      <td>18968.0</td>\n",
       "      <td>12453.0</td>\n",
       "      <td>6515.0</td>\n",
       "      <td>Engineering</td>\n",
       "      <td>0.343473</td>\n",
       "      <td>183</td>\n",
       "      <td>15604</td>\n",
       "      <td>14879</td>\n",
       "      <td>2243</td>\n",
       "      <td>11326</td>\n",
       "      <td>699</td>\n",
       "      <td>0.042876</td>\n",
       "      <td>57000</td>\n",
       "      <td>37900</td>\n",
       "      <td>67000</td>\n",
       "      <td>8306</td>\n",
       "      <td>3235</td>\n",
       "      <td>640</td>\n",
       "    </tr>\n",
       "    <tr>\n",
       "      <th>17</th>\n",
       "      <td>18</td>\n",
       "      <td>2400</td>\n",
       "      <td>General Engineering</td>\n",
       "      <td>61152.0</td>\n",
       "      <td>45683.0</td>\n",
       "      <td>15469.0</td>\n",
       "      <td>Engineering</td>\n",
       "      <td>0.252960</td>\n",
       "      <td>425</td>\n",
       "      <td>44931</td>\n",
       "      <td>41235</td>\n",
       "      <td>7199</td>\n",
       "      <td>33540</td>\n",
       "      <td>2859</td>\n",
       "      <td>0.059824</td>\n",
       "      <td>56000</td>\n",
       "      <td>36000</td>\n",
       "      <td>69000</td>\n",
       "      <td>26898</td>\n",
       "      <td>11734</td>\n",
       "      <td>3192</td>\n",
       "    </tr>\n",
       "    <tr>\n",
       "      <th>20</th>\n",
       "      <td>21</td>\n",
       "      <td>2102</td>\n",
       "      <td>Computer Science</td>\n",
       "      <td>128319.0</td>\n",
       "      <td>99743.0</td>\n",
       "      <td>28576.0</td>\n",
       "      <td>Computers &amp; Mathematics</td>\n",
       "      <td>0.222695</td>\n",
       "      <td>1196</td>\n",
       "      <td>102087</td>\n",
       "      <td>91485</td>\n",
       "      <td>18726</td>\n",
       "      <td>70932</td>\n",
       "      <td>6884</td>\n",
       "      <td>0.063173</td>\n",
       "      <td>53000</td>\n",
       "      <td>39000</td>\n",
       "      <td>70000</td>\n",
       "      <td>68622</td>\n",
       "      <td>25667</td>\n",
       "      <td>5144</td>\n",
       "    </tr>\n",
       "    <tr>\n",
       "      <th>24</th>\n",
       "      <td>25</td>\n",
       "      <td>6212</td>\n",
       "      <td>Management Information Systems And Statistics</td>\n",
       "      <td>18713.0</td>\n",
       "      <td>13496.0</td>\n",
       "      <td>5217.0</td>\n",
       "      <td>Business</td>\n",
       "      <td>0.278790</td>\n",
       "      <td>278</td>\n",
       "      <td>16413</td>\n",
       "      <td>15141</td>\n",
       "      <td>2420</td>\n",
       "      <td>13017</td>\n",
       "      <td>1015</td>\n",
       "      <td>0.058240</td>\n",
       "      <td>51000</td>\n",
       "      <td>38000</td>\n",
       "      <td>60000</td>\n",
       "      <td>6342</td>\n",
       "      <td>5741</td>\n",
       "      <td>708</td>\n",
       "    </tr>\n",
       "    <tr>\n",
       "      <th>27</th>\n",
       "      <td>28</td>\n",
       "      <td>6204</td>\n",
       "      <td>Operations Logistics And E-Commerce</td>\n",
       "      <td>11732.0</td>\n",
       "      <td>7921.0</td>\n",
       "      <td>3811.0</td>\n",
       "      <td>Business</td>\n",
       "      <td>0.324838</td>\n",
       "      <td>156</td>\n",
       "      <td>10027</td>\n",
       "      <td>9639</td>\n",
       "      <td>1183</td>\n",
       "      <td>7724</td>\n",
       "      <td>504</td>\n",
       "      <td>0.047859</td>\n",
       "      <td>50000</td>\n",
       "      <td>40000</td>\n",
       "      <td>60000</td>\n",
       "      <td>1466</td>\n",
       "      <td>3629</td>\n",
       "      <td>285</td>\n",
       "    </tr>\n",
       "    <tr>\n",
       "      <th>28</th>\n",
       "      <td>29</td>\n",
       "      <td>2499</td>\n",
       "      <td>Miscellaneous Engineering</td>\n",
       "      <td>9133.0</td>\n",
       "      <td>7398.0</td>\n",
       "      <td>1735.0</td>\n",
       "      <td>Engineering</td>\n",
       "      <td>0.189970</td>\n",
       "      <td>118</td>\n",
       "      <td>7428</td>\n",
       "      <td>6811</td>\n",
       "      <td>1662</td>\n",
       "      <td>5476</td>\n",
       "      <td>597</td>\n",
       "      <td>0.074393</td>\n",
       "      <td>50000</td>\n",
       "      <td>39000</td>\n",
       "      <td>65000</td>\n",
       "      <td>3445</td>\n",
       "      <td>2426</td>\n",
       "      <td>365</td>\n",
       "    </tr>\n",
       "    <tr>\n",
       "      <th>26</th>\n",
       "      <td>27</td>\n",
       "      <td>5601</td>\n",
       "      <td>Construction Services</td>\n",
       "      <td>18498.0</td>\n",
       "      <td>16820.0</td>\n",
       "      <td>1678.0</td>\n",
       "      <td>Industrial Arts &amp; Consumer Services</td>\n",
       "      <td>0.090713</td>\n",
       "      <td>295</td>\n",
       "      <td>16318</td>\n",
       "      <td>15690</td>\n",
       "      <td>1751</td>\n",
       "      <td>12313</td>\n",
       "      <td>1042</td>\n",
       "      <td>0.060023</td>\n",
       "      <td>50000</td>\n",
       "      <td>36000</td>\n",
       "      <td>60000</td>\n",
       "      <td>3275</td>\n",
       "      <td>5351</td>\n",
       "      <td>703</td>\n",
       "    </tr>\n",
       "    <tr>\n",
       "      <th>25</th>\n",
       "      <td>26</td>\n",
       "      <td>2406</td>\n",
       "      <td>Civil Engineering</td>\n",
       "      <td>53153.0</td>\n",
       "      <td>41081.0</td>\n",
       "      <td>12072.0</td>\n",
       "      <td>Engineering</td>\n",
       "      <td>0.227118</td>\n",
       "      <td>565</td>\n",
       "      <td>43041</td>\n",
       "      <td>38302</td>\n",
       "      <td>10080</td>\n",
       "      <td>29196</td>\n",
       "      <td>3270</td>\n",
       "      <td>0.070610</td>\n",
       "      <td>50000</td>\n",
       "      <td>40000</td>\n",
       "      <td>60000</td>\n",
       "      <td>28526</td>\n",
       "      <td>9356</td>\n",
       "      <td>2899</td>\n",
       "    </tr>\n",
       "    <tr>\n",
       "      <th>34</th>\n",
       "      <td>35</td>\n",
       "      <td>6107</td>\n",
       "      <td>Nursing</td>\n",
       "      <td>209394.0</td>\n",
       "      <td>21773.0</td>\n",
       "      <td>187621.0</td>\n",
       "      <td>Health</td>\n",
       "      <td>0.896019</td>\n",
       "      <td>2554</td>\n",
       "      <td>180903</td>\n",
       "      <td>151191</td>\n",
       "      <td>40818</td>\n",
       "      <td>122817</td>\n",
       "      <td>8497</td>\n",
       "      <td>0.044863</td>\n",
       "      <td>48000</td>\n",
       "      <td>39000</td>\n",
       "      <td>58000</td>\n",
       "      <td>151643</td>\n",
       "      <td>26146</td>\n",
       "      <td>6193</td>\n",
       "    </tr>\n",
       "    <tr>\n",
       "      <th>35</th>\n",
       "      <td>36</td>\n",
       "      <td>6207</td>\n",
       "      <td>Finance</td>\n",
       "      <td>174506.0</td>\n",
       "      <td>115030.0</td>\n",
       "      <td>59476.0</td>\n",
       "      <td>Business</td>\n",
       "      <td>0.340825</td>\n",
       "      <td>2189</td>\n",
       "      <td>145696</td>\n",
       "      <td>137921</td>\n",
       "      <td>21463</td>\n",
       "      <td>108595</td>\n",
       "      <td>9413</td>\n",
       "      <td>0.060686</td>\n",
       "      <td>47000</td>\n",
       "      <td>35000</td>\n",
       "      <td>64000</td>\n",
       "      <td>24243</td>\n",
       "      <td>48447</td>\n",
       "      <td>9910</td>\n",
       "    </tr>\n",
       "    <tr>\n",
       "      <th>36</th>\n",
       "      <td>37</td>\n",
       "      <td>5501</td>\n",
       "      <td>Economics</td>\n",
       "      <td>139247.0</td>\n",
       "      <td>89749.0</td>\n",
       "      <td>49498.0</td>\n",
       "      <td>Social Science</td>\n",
       "      <td>0.355469</td>\n",
       "      <td>1322</td>\n",
       "      <td>104117</td>\n",
       "      <td>96567</td>\n",
       "      <td>25325</td>\n",
       "      <td>70740</td>\n",
       "      <td>11452</td>\n",
       "      <td>0.099092</td>\n",
       "      <td>47000</td>\n",
       "      <td>35000</td>\n",
       "      <td>65000</td>\n",
       "      <td>25582</td>\n",
       "      <td>37057</td>\n",
       "      <td>10653</td>\n",
       "    </tr>\n",
       "    <tr>\n",
       "      <th>37</th>\n",
       "      <td>38</td>\n",
       "      <td>6205</td>\n",
       "      <td>Business Economics</td>\n",
       "      <td>13302.0</td>\n",
       "      <td>7575.0</td>\n",
       "      <td>5727.0</td>\n",
       "      <td>Business</td>\n",
       "      <td>0.430537</td>\n",
       "      <td>199</td>\n",
       "      <td>10914</td>\n",
       "      <td>10048</td>\n",
       "      <td>1937</td>\n",
       "      <td>8000</td>\n",
       "      <td>1165</td>\n",
       "      <td>0.096448</td>\n",
       "      <td>46000</td>\n",
       "      <td>33000</td>\n",
       "      <td>58000</td>\n",
       "      <td>1578</td>\n",
       "      <td>4612</td>\n",
       "      <td>1284</td>\n",
       "    </tr>\n",
       "    <tr>\n",
       "      <th>45</th>\n",
       "      <td>46</td>\n",
       "      <td>2105</td>\n",
       "      <td>Information Sciences</td>\n",
       "      <td>11913.0</td>\n",
       "      <td>9005.0</td>\n",
       "      <td>2908.0</td>\n",
       "      <td>Computers &amp; Mathematics</td>\n",
       "      <td>0.244103</td>\n",
       "      <td>158</td>\n",
       "      <td>9881</td>\n",
       "      <td>9105</td>\n",
       "      <td>1468</td>\n",
       "      <td>7378</td>\n",
       "      <td>639</td>\n",
       "      <td>0.060741</td>\n",
       "      <td>45000</td>\n",
       "      <td>32500</td>\n",
       "      <td>58000</td>\n",
       "      <td>4390</td>\n",
       "      <td>4102</td>\n",
       "      <td>608</td>\n",
       "    </tr>\n",
       "    <tr>\n",
       "      <th>44</th>\n",
       "      <td>45</td>\n",
       "      <td>6105</td>\n",
       "      <td>Medical Technologies Technicians</td>\n",
       "      <td>15914.0</td>\n",
       "      <td>3916.0</td>\n",
       "      <td>11998.0</td>\n",
       "      <td>Health</td>\n",
       "      <td>0.753927</td>\n",
       "      <td>190</td>\n",
       "      <td>13150</td>\n",
       "      <td>11510</td>\n",
       "      <td>2665</td>\n",
       "      <td>9005</td>\n",
       "      <td>505</td>\n",
       "      <td>0.036983</td>\n",
       "      <td>45000</td>\n",
       "      <td>36000</td>\n",
       "      <td>50000</td>\n",
       "      <td>5546</td>\n",
       "      <td>7176</td>\n",
       "      <td>1002</td>\n",
       "    </tr>\n",
       "    <tr>\n",
       "      <th>40</th>\n",
       "      <td>41</td>\n",
       "      <td>6201</td>\n",
       "      <td>Accounting</td>\n",
       "      <td>198633.0</td>\n",
       "      <td>94519.0</td>\n",
       "      <td>104114.0</td>\n",
       "      <td>Business</td>\n",
       "      <td>0.524153</td>\n",
       "      <td>2042</td>\n",
       "      <td>165527</td>\n",
       "      <td>151967</td>\n",
       "      <td>27693</td>\n",
       "      <td>123169</td>\n",
       "      <td>12411</td>\n",
       "      <td>0.069749</td>\n",
       "      <td>45000</td>\n",
       "      <td>34000</td>\n",
       "      <td>56000</td>\n",
       "      <td>11417</td>\n",
       "      <td>39323</td>\n",
       "      <td>10886</td>\n",
       "    </tr>\n",
       "  </tbody>\n",
       "</table>\n",
       "</div>"
      ],
      "text/plain": [
       "    Rank  Major_code                                          Major     Total  \\\n",
       "4      5        2405                           Chemical Engineering   32260.0   \n",
       "9     10        2408                         Electrical Engineering   81527.0   \n",
       "8      9        2414                         Mechanical Engineering   91227.0   \n",
       "11    12        2401                          Aerospace Engineering   15058.0   \n",
       "10    11        2407                           Computer Engineering   41542.0   \n",
       "16    17        2412       Industrial And Manufacturing Engineering   18968.0   \n",
       "17    18        2400                            General Engineering   61152.0   \n",
       "20    21        2102                               Computer Science  128319.0   \n",
       "24    25        6212  Management Information Systems And Statistics   18713.0   \n",
       "27    28        6204            Operations Logistics And E-Commerce   11732.0   \n",
       "28    29        2499                      Miscellaneous Engineering    9133.0   \n",
       "26    27        5601                          Construction Services   18498.0   \n",
       "25    26        2406                              Civil Engineering   53153.0   \n",
       "34    35        6107                                        Nursing  209394.0   \n",
       "35    36        6207                                        Finance  174506.0   \n",
       "36    37        5501                                      Economics  139247.0   \n",
       "37    38        6205                             Business Economics   13302.0   \n",
       "45    46        2105                           Information Sciences   11913.0   \n",
       "44    45        6105               Medical Technologies Technicians   15914.0   \n",
       "40    41        6201                                     Accounting  198633.0   \n",
       "\n",
       "         Men     Women                       Major_category  ShareWomen  \\\n",
       "4    21239.0   11021.0                          Engineering    0.341631   \n",
       "9    65511.0   16016.0                          Engineering    0.196450   \n",
       "8    80320.0   10907.0                          Engineering    0.119559   \n",
       "11   12953.0    2105.0                          Engineering    0.139793   \n",
       "10   33258.0    8284.0                          Engineering    0.199413   \n",
       "16   12453.0    6515.0                          Engineering    0.343473   \n",
       "17   45683.0   15469.0                          Engineering    0.252960   \n",
       "20   99743.0   28576.0              Computers & Mathematics    0.222695   \n",
       "24   13496.0    5217.0                             Business    0.278790   \n",
       "27    7921.0    3811.0                             Business    0.324838   \n",
       "28    7398.0    1735.0                          Engineering    0.189970   \n",
       "26   16820.0    1678.0  Industrial Arts & Consumer Services    0.090713   \n",
       "25   41081.0   12072.0                          Engineering    0.227118   \n",
       "34   21773.0  187621.0                               Health    0.896019   \n",
       "35  115030.0   59476.0                             Business    0.340825   \n",
       "36   89749.0   49498.0                       Social Science    0.355469   \n",
       "37    7575.0    5727.0                             Business    0.430537   \n",
       "45    9005.0    2908.0              Computers & Mathematics    0.244103   \n",
       "44    3916.0   11998.0                               Health    0.753927   \n",
       "40   94519.0  104114.0                             Business    0.524153   \n",
       "\n",
       "    Sample_size  Employed  Full_time  Part_time  Full_time_year_round  \\\n",
       "4           289     25694      23170       5180                 16697   \n",
       "9           631     61928      55450      12695                 41413   \n",
       "8          1029     76442      71298      13101                 54639   \n",
       "11          147     11391      11106       2724                  8790   \n",
       "10          399     32506      30315       5146                 23621   \n",
       "16          183     15604      14879       2243                 11326   \n",
       "17          425     44931      41235       7199                 33540   \n",
       "20         1196    102087      91485      18726                 70932   \n",
       "24          278     16413      15141       2420                 13017   \n",
       "27          156     10027       9639       1183                  7724   \n",
       "28          118      7428       6811       1662                  5476   \n",
       "26          295     16318      15690       1751                 12313   \n",
       "25          565     43041      38302      10080                 29196   \n",
       "34         2554    180903     151191      40818                122817   \n",
       "35         2189    145696     137921      21463                108595   \n",
       "36         1322    104117      96567      25325                 70740   \n",
       "37          199     10914      10048       1937                  8000   \n",
       "45          158      9881       9105       1468                  7378   \n",
       "44          190     13150      11510       2665                  9005   \n",
       "40         2042    165527     151967      27693                123169   \n",
       "\n",
       "    Unemployed  Unemployment_rate  Median  P25th  P75th  College_jobs  \\\n",
       "4         1672           0.061098   65000  50000  75000         18314   \n",
       "9         3895           0.059174   60000  45000  72000         45829   \n",
       "8         4650           0.057342   60000  48000  70000         52844   \n",
       "11         794           0.065162   60000  42000  70000          8184   \n",
       "10        2275           0.065409   60000  45000  75000         23694   \n",
       "16         699           0.042876   57000  37900  67000          8306   \n",
       "17        2859           0.059824   56000  36000  69000         26898   \n",
       "20        6884           0.063173   53000  39000  70000         68622   \n",
       "24        1015           0.058240   51000  38000  60000          6342   \n",
       "27         504           0.047859   50000  40000  60000          1466   \n",
       "28         597           0.074393   50000  39000  65000          3445   \n",
       "26        1042           0.060023   50000  36000  60000          3275   \n",
       "25        3270           0.070610   50000  40000  60000         28526   \n",
       "34        8497           0.044863   48000  39000  58000        151643   \n",
       "35        9413           0.060686   47000  35000  64000         24243   \n",
       "36       11452           0.099092   47000  35000  65000         25582   \n",
       "37        1165           0.096448   46000  33000  58000          1578   \n",
       "45         639           0.060741   45000  32500  58000          4390   \n",
       "44         505           0.036983   45000  36000  50000          5546   \n",
       "40       12411           0.069749   45000  34000  56000         11417   \n",
       "\n",
       "    Non_college_jobs  Low_wage_jobs  \n",
       "4               4440            972  \n",
       "9              10874           3170  \n",
       "8              16384           3253  \n",
       "11              2425            372  \n",
       "10              5721            980  \n",
       "16              3235            640  \n",
       "17             11734           3192  \n",
       "20             25667           5144  \n",
       "24              5741            708  \n",
       "27              3629            285  \n",
       "28              2426            365  \n",
       "26              5351            703  \n",
       "25              9356           2899  \n",
       "34             26146           6193  \n",
       "35             48447           9910  \n",
       "36             37057          10653  \n",
       "37              4612           1284  \n",
       "45              4102            608  \n",
       "44              7176           1002  \n",
       "40             39323          10886  "
      ]
     },
     "execution_count": 5,
     "metadata": {},
     "output_type": "execute_result"
    }
   ],
   "source": [
    "major_processed  = major_processed.sort_values(['Median'], ascending=False)\n",
    "major_processed"
   ]
  },
  {
   "cell_type": "code",
   "execution_count": 104,
   "metadata": {},
   "outputs": [
    {
     "data": {
      "application/vnd.plotly.v1+json": {
       "config": {
        "plotlyServerURL": "https://plot.ly"
       },
       "data": [
        {
         "alignmentgroup": "True",
         "hovertemplate": "Median=%{x}<br>Major_category=%{y}<extra></extra>",
         "legendgroup": "",
         "marker": {
          "color": "#636efa"
         },
         "name": "",
         "notched": false,
         "offsetgroup": "",
         "orientation": "h",
         "showlegend": false,
         "type": "box",
         "x": [
          22000,
          23400,
          25000,
          25000,
          26000,
          27000,
          27000,
          27500,
          28000,
          28000,
          28000,
          29000,
          29000,
          29000,
          29000,
          30000,
          30000,
          30000,
          30000,
          30000,
          30000,
          30000,
          30000,
          30500,
          31000,
          31000,
          31000,
          31500,
          32000,
          32000,
          32000,
          32000,
          32000,
          32000,
          32000,
          32000,
          32100,
          32200,
          32400,
          32500,
          33000,
          33000,
          33000,
          33000,
          33000,
          33000,
          33000,
          33000,
          33000,
          33400,
          33500,
          33500,
          34000,
          34000,
          34000,
          34000,
          34000,
          34000,
          34000,
          34000,
          35000,
          35000,
          35000,
          35000,
          35000,
          35000,
          35000,
          35000,
          35000,
          35000,
          35000,
          35000,
          35000,
          35000,
          35000,
          35000,
          35000,
          35000,
          35000,
          35000,
          35600,
          36000,
          36000,
          36000,
          36000,
          36000,
          36000,
          36200,
          36400,
          37000,
          37400,
          37500,
          38000,
          38000,
          38000,
          38000,
          38000,
          38400,
          39000,
          40000,
          40000,
          40000,
          40000,
          40000,
          40000,
          40000,
          40000,
          40000,
          40000,
          40000,
          40000,
          40000,
          40000,
          40000,
          40000,
          40000,
          40100,
          41000,
          41000,
          41300,
          42000,
          42000,
          44000,
          44700,
          45000,
          45000,
          45000,
          45000,
          45000,
          45000,
          45000,
          45000,
          45000,
          46000,
          46000,
          46000,
          47000,
          47000,
          48000,
          50000,
          50000,
          50000,
          50000,
          50000,
          50000,
          50000,
          50000,
          50000,
          51000,
          52000,
          52000,
          53000,
          53000,
          54000,
          54000,
          56000,
          57000,
          57100,
          58000,
          60000,
          60000,
          60000,
          60000,
          60000,
          60000,
          62000,
          62000,
          65000,
          65000,
          70000,
          73000,
          75000,
          110000
         ],
         "x0": " ",
         "xaxis": "x",
         "y": [
          "Education",
          "Psychology & Social Work",
          "Psychology & Social Work",
          "Psychology & Social Work",
          "Biology & Life Science",
          "Humanities & Liberal Arts",
          "Arts",
          "Humanities & Liberal Arts",
          "Health",
          "Humanities & Liberal Arts",
          "Education",
          "Arts",
          "Humanities & Liberal Arts",
          "Agriculture & Natural Resources",
          "Industrial Arts & Consumer Services",
          "Psychology & Social Work",
          "Education",
          "Psychology & Social Work",
          "Humanities & Liberal Arts",
          "Arts",
          "Industrial Arts & Consumer Services",
          "Agriculture & Natural Resources",
          "Psychology & Social Work",
          "Arts",
          "Education",
          "Humanities & Liberal Arts",
          "Arts",
          "Psychology & Social Work",
          "Education",
          "Humanities & Liberal Arts",
          "Industrial Arts & Consumer Services",
          "Agriculture & Natural Resources",
          "Education",
          "Social Science",
          "Arts",
          "Humanities & Liberal Arts",
          "Education",
          "Humanities & Liberal Arts",
          "Health",
          "Education",
          "Business",
          "Health",
          "Social Science",
          "Communications & Journalism",
          "Social Science",
          "Education",
          "Education",
          "Humanities & Liberal Arts",
          "Biology & Life Science",
          "Biology & Life Science",
          "Biology & Life Science",
          "Health",
          "Education",
          "Humanities & Liberal Arts",
          "Humanities & Liberal Arts",
          "Humanities & Liberal Arts",
          "Health",
          "Education",
          "Education",
          "Education",
          "Humanities & Liberal Arts",
          "Social Science",
          "Biology & Life Science",
          "Law & Public Policy",
          "Arts",
          "Communications & Journalism",
          "Physical Sciences",
          "Communications & Journalism",
          "Education",
          "Industrial Arts & Consumer Services",
          "Interdisciplinary",
          "Computers & Mathematics",
          "Biology & Life Science",
          "Health",
          "Physical Sciences",
          "Agriculture & Natural Resources",
          "Agriculture & Natural Resources",
          "Health",
          "Communications & Journalism",
          "Agriculture & Natural Resources",
          "Biology & Life Science",
          "Business",
          "Law & Public Policy",
          "Physical Sciences",
          "Psychology & Social Work",
          "Health",
          "Law & Public Policy",
          "Physical Sciences",
          "Computers & Mathematics",
          "Biology & Life Science",
          "Biology & Life Science",
          "Computers & Mathematics",
          "Business",
          "Business",
          "Biology & Life Science",
          "Social Science",
          "Social Science",
          "Industrial Arts & Consumer Services",
          "Physical Sciences",
          "Agriculture & Natural Resources",
          "Agriculture & Natural Resources",
          "Business",
          "Biology & Life Science",
          "Engineering",
          "Business",
          "Engineering",
          "Business",
          "Biology & Life Science",
          "Engineering",
          "Industrial Arts & Consumer Services",
          "Physical Sciences",
          "Health",
          "Psychology & Social Work",
          "Humanities & Liberal Arts",
          "Social Science",
          "Agriculture & Natural Resources",
          "Social Science",
          "Biology & Life Science",
          "Education",
          "Computers & Mathematics",
          "Computers & Mathematics",
          "Health",
          "Engineering",
          "Physical Sciences",
          "Business",
          "Computers & Mathematics",
          "Computers & Mathematics",
          "Physical Sciences",
          "Computers & Mathematics",
          "Computers & Mathematics",
          "Health",
          "Biology & Life Science",
          "Computers & Mathematics",
          "Physical Sciences",
          "Engineering",
          "Business",
          "Social Science",
          "Business",
          "Health",
          "Engineering",
          "Industrial Arts & Consumer Services",
          "Business",
          "Engineering",
          "Engineering",
          "Engineering",
          "Engineering",
          "Law & Public Policy",
          "Arts",
          "Business",
          "Engineering",
          "Engineering",
          "Agriculture & Natural Resources",
          "Computers & Mathematics",
          "Law & Public Policy",
          "Engineering",
          "Engineering",
          "Engineering",
          "Engineering",
          "Engineering",
          "Engineering",
          "Engineering",
          "Engineering",
          "Engineering",
          "Engineering",
          "Engineering",
          "Physical Sciences",
          "Business",
          "Engineering",
          "Engineering",
          "Engineering",
          "Engineering",
          "Engineering",
          "Engineering"
         ],
         "y0": " ",
         "yaxis": "y"
        }
       ],
       "layout": {
        "boxmode": "group",
        "height": 500,
        "legend": {
         "tracegroupgap": 0
        },
        "paper_bgcolor": "ghostwhite",
        "plot_bgcolor": "gold",
        "template": {
         "data": {
          "bar": [
           {
            "error_x": {
             "color": "#2a3f5f"
            },
            "error_y": {
             "color": "#2a3f5f"
            },
            "marker": {
             "line": {
              "color": "#E5ECF6",
              "width": 0.5
             }
            },
            "type": "bar"
           }
          ],
          "barpolar": [
           {
            "marker": {
             "line": {
              "color": "#E5ECF6",
              "width": 0.5
             }
            },
            "type": "barpolar"
           }
          ],
          "carpet": [
           {
            "aaxis": {
             "endlinecolor": "#2a3f5f",
             "gridcolor": "white",
             "linecolor": "white",
             "minorgridcolor": "white",
             "startlinecolor": "#2a3f5f"
            },
            "baxis": {
             "endlinecolor": "#2a3f5f",
             "gridcolor": "white",
             "linecolor": "white",
             "minorgridcolor": "white",
             "startlinecolor": "#2a3f5f"
            },
            "type": "carpet"
           }
          ],
          "choropleth": [
           {
            "colorbar": {
             "outlinewidth": 0,
             "ticks": ""
            },
            "type": "choropleth"
           }
          ],
          "contour": [
           {
            "colorbar": {
             "outlinewidth": 0,
             "ticks": ""
            },
            "colorscale": [
             [
              0,
              "#0d0887"
             ],
             [
              0.1111111111111111,
              "#46039f"
             ],
             [
              0.2222222222222222,
              "#7201a8"
             ],
             [
              0.3333333333333333,
              "#9c179e"
             ],
             [
              0.4444444444444444,
              "#bd3786"
             ],
             [
              0.5555555555555556,
              "#d8576b"
             ],
             [
              0.6666666666666666,
              "#ed7953"
             ],
             [
              0.7777777777777778,
              "#fb9f3a"
             ],
             [
              0.8888888888888888,
              "#fdca26"
             ],
             [
              1,
              "#f0f921"
             ]
            ],
            "type": "contour"
           }
          ],
          "contourcarpet": [
           {
            "colorbar": {
             "outlinewidth": 0,
             "ticks": ""
            },
            "type": "contourcarpet"
           }
          ],
          "heatmap": [
           {
            "colorbar": {
             "outlinewidth": 0,
             "ticks": ""
            },
            "colorscale": [
             [
              0,
              "#0d0887"
             ],
             [
              0.1111111111111111,
              "#46039f"
             ],
             [
              0.2222222222222222,
              "#7201a8"
             ],
             [
              0.3333333333333333,
              "#9c179e"
             ],
             [
              0.4444444444444444,
              "#bd3786"
             ],
             [
              0.5555555555555556,
              "#d8576b"
             ],
             [
              0.6666666666666666,
              "#ed7953"
             ],
             [
              0.7777777777777778,
              "#fb9f3a"
             ],
             [
              0.8888888888888888,
              "#fdca26"
             ],
             [
              1,
              "#f0f921"
             ]
            ],
            "type": "heatmap"
           }
          ],
          "heatmapgl": [
           {
            "colorbar": {
             "outlinewidth": 0,
             "ticks": ""
            },
            "colorscale": [
             [
              0,
              "#0d0887"
             ],
             [
              0.1111111111111111,
              "#46039f"
             ],
             [
              0.2222222222222222,
              "#7201a8"
             ],
             [
              0.3333333333333333,
              "#9c179e"
             ],
             [
              0.4444444444444444,
              "#bd3786"
             ],
             [
              0.5555555555555556,
              "#d8576b"
             ],
             [
              0.6666666666666666,
              "#ed7953"
             ],
             [
              0.7777777777777778,
              "#fb9f3a"
             ],
             [
              0.8888888888888888,
              "#fdca26"
             ],
             [
              1,
              "#f0f921"
             ]
            ],
            "type": "heatmapgl"
           }
          ],
          "histogram": [
           {
            "marker": {
             "colorbar": {
              "outlinewidth": 0,
              "ticks": ""
             }
            },
            "type": "histogram"
           }
          ],
          "histogram2d": [
           {
            "colorbar": {
             "outlinewidth": 0,
             "ticks": ""
            },
            "colorscale": [
             [
              0,
              "#0d0887"
             ],
             [
              0.1111111111111111,
              "#46039f"
             ],
             [
              0.2222222222222222,
              "#7201a8"
             ],
             [
              0.3333333333333333,
              "#9c179e"
             ],
             [
              0.4444444444444444,
              "#bd3786"
             ],
             [
              0.5555555555555556,
              "#d8576b"
             ],
             [
              0.6666666666666666,
              "#ed7953"
             ],
             [
              0.7777777777777778,
              "#fb9f3a"
             ],
             [
              0.8888888888888888,
              "#fdca26"
             ],
             [
              1,
              "#f0f921"
             ]
            ],
            "type": "histogram2d"
           }
          ],
          "histogram2dcontour": [
           {
            "colorbar": {
             "outlinewidth": 0,
             "ticks": ""
            },
            "colorscale": [
             [
              0,
              "#0d0887"
             ],
             [
              0.1111111111111111,
              "#46039f"
             ],
             [
              0.2222222222222222,
              "#7201a8"
             ],
             [
              0.3333333333333333,
              "#9c179e"
             ],
             [
              0.4444444444444444,
              "#bd3786"
             ],
             [
              0.5555555555555556,
              "#d8576b"
             ],
             [
              0.6666666666666666,
              "#ed7953"
             ],
             [
              0.7777777777777778,
              "#fb9f3a"
             ],
             [
              0.8888888888888888,
              "#fdca26"
             ],
             [
              1,
              "#f0f921"
             ]
            ],
            "type": "histogram2dcontour"
           }
          ],
          "mesh3d": [
           {
            "colorbar": {
             "outlinewidth": 0,
             "ticks": ""
            },
            "type": "mesh3d"
           }
          ],
          "parcoords": [
           {
            "line": {
             "colorbar": {
              "outlinewidth": 0,
              "ticks": ""
             }
            },
            "type": "parcoords"
           }
          ],
          "pie": [
           {
            "automargin": true,
            "type": "pie"
           }
          ],
          "scatter": [
           {
            "marker": {
             "colorbar": {
              "outlinewidth": 0,
              "ticks": ""
             }
            },
            "type": "scatter"
           }
          ],
          "scatter3d": [
           {
            "line": {
             "colorbar": {
              "outlinewidth": 0,
              "ticks": ""
             }
            },
            "marker": {
             "colorbar": {
              "outlinewidth": 0,
              "ticks": ""
             }
            },
            "type": "scatter3d"
           }
          ],
          "scattercarpet": [
           {
            "marker": {
             "colorbar": {
              "outlinewidth": 0,
              "ticks": ""
             }
            },
            "type": "scattercarpet"
           }
          ],
          "scattergeo": [
           {
            "marker": {
             "colorbar": {
              "outlinewidth": 0,
              "ticks": ""
             }
            },
            "type": "scattergeo"
           }
          ],
          "scattergl": [
           {
            "marker": {
             "colorbar": {
              "outlinewidth": 0,
              "ticks": ""
             }
            },
            "type": "scattergl"
           }
          ],
          "scattermapbox": [
           {
            "marker": {
             "colorbar": {
              "outlinewidth": 0,
              "ticks": ""
             }
            },
            "type": "scattermapbox"
           }
          ],
          "scatterpolar": [
           {
            "marker": {
             "colorbar": {
              "outlinewidth": 0,
              "ticks": ""
             }
            },
            "type": "scatterpolar"
           }
          ],
          "scatterpolargl": [
           {
            "marker": {
             "colorbar": {
              "outlinewidth": 0,
              "ticks": ""
             }
            },
            "type": "scatterpolargl"
           }
          ],
          "scatterternary": [
           {
            "marker": {
             "colorbar": {
              "outlinewidth": 0,
              "ticks": ""
             }
            },
            "type": "scatterternary"
           }
          ],
          "surface": [
           {
            "colorbar": {
             "outlinewidth": 0,
             "ticks": ""
            },
            "colorscale": [
             [
              0,
              "#0d0887"
             ],
             [
              0.1111111111111111,
              "#46039f"
             ],
             [
              0.2222222222222222,
              "#7201a8"
             ],
             [
              0.3333333333333333,
              "#9c179e"
             ],
             [
              0.4444444444444444,
              "#bd3786"
             ],
             [
              0.5555555555555556,
              "#d8576b"
             ],
             [
              0.6666666666666666,
              "#ed7953"
             ],
             [
              0.7777777777777778,
              "#fb9f3a"
             ],
             [
              0.8888888888888888,
              "#fdca26"
             ],
             [
              1,
              "#f0f921"
             ]
            ],
            "type": "surface"
           }
          ],
          "table": [
           {
            "cells": {
             "fill": {
              "color": "#EBF0F8"
             },
             "line": {
              "color": "white"
             }
            },
            "header": {
             "fill": {
              "color": "#C8D4E3"
             },
             "line": {
              "color": "white"
             }
            },
            "type": "table"
           }
          ]
         },
         "layout": {
          "annotationdefaults": {
           "arrowcolor": "#2a3f5f",
           "arrowhead": 0,
           "arrowwidth": 1
          },
          "autotypenumbers": "strict",
          "coloraxis": {
           "colorbar": {
            "outlinewidth": 0,
            "ticks": ""
           }
          },
          "colorscale": {
           "diverging": [
            [
             0,
             "#8e0152"
            ],
            [
             0.1,
             "#c51b7d"
            ],
            [
             0.2,
             "#de77ae"
            ],
            [
             0.3,
             "#f1b6da"
            ],
            [
             0.4,
             "#fde0ef"
            ],
            [
             0.5,
             "#f7f7f7"
            ],
            [
             0.6,
             "#e6f5d0"
            ],
            [
             0.7,
             "#b8e186"
            ],
            [
             0.8,
             "#7fbc41"
            ],
            [
             0.9,
             "#4d9221"
            ],
            [
             1,
             "#276419"
            ]
           ],
           "sequential": [
            [
             0,
             "#0d0887"
            ],
            [
             0.1111111111111111,
             "#46039f"
            ],
            [
             0.2222222222222222,
             "#7201a8"
            ],
            [
             0.3333333333333333,
             "#9c179e"
            ],
            [
             0.4444444444444444,
             "#bd3786"
            ],
            [
             0.5555555555555556,
             "#d8576b"
            ],
            [
             0.6666666666666666,
             "#ed7953"
            ],
            [
             0.7777777777777778,
             "#fb9f3a"
            ],
            [
             0.8888888888888888,
             "#fdca26"
            ],
            [
             1,
             "#f0f921"
            ]
           ],
           "sequentialminus": [
            [
             0,
             "#0d0887"
            ],
            [
             0.1111111111111111,
             "#46039f"
            ],
            [
             0.2222222222222222,
             "#7201a8"
            ],
            [
             0.3333333333333333,
             "#9c179e"
            ],
            [
             0.4444444444444444,
             "#bd3786"
            ],
            [
             0.5555555555555556,
             "#d8576b"
            ],
            [
             0.6666666666666666,
             "#ed7953"
            ],
            [
             0.7777777777777778,
             "#fb9f3a"
            ],
            [
             0.8888888888888888,
             "#fdca26"
            ],
            [
             1,
             "#f0f921"
            ]
           ]
          },
          "colorway": [
           "#636efa",
           "#EF553B",
           "#00cc96",
           "#ab63fa",
           "#FFA15A",
           "#19d3f3",
           "#FF6692",
           "#B6E880",
           "#FF97FF",
           "#FECB52"
          ],
          "font": {
           "color": "#2a3f5f"
          },
          "geo": {
           "bgcolor": "white",
           "lakecolor": "white",
           "landcolor": "#E5ECF6",
           "showlakes": true,
           "showland": true,
           "subunitcolor": "white"
          },
          "hoverlabel": {
           "align": "left"
          },
          "hovermode": "closest",
          "mapbox": {
           "style": "light"
          },
          "paper_bgcolor": "white",
          "plot_bgcolor": "#E5ECF6",
          "polar": {
           "angularaxis": {
            "gridcolor": "white",
            "linecolor": "white",
            "ticks": ""
           },
           "bgcolor": "#E5ECF6",
           "radialaxis": {
            "gridcolor": "white",
            "linecolor": "white",
            "ticks": ""
           }
          },
          "scene": {
           "xaxis": {
            "backgroundcolor": "#E5ECF6",
            "gridcolor": "white",
            "gridwidth": 2,
            "linecolor": "white",
            "showbackground": true,
            "ticks": "",
            "zerolinecolor": "white"
           },
           "yaxis": {
            "backgroundcolor": "#E5ECF6",
            "gridcolor": "white",
            "gridwidth": 2,
            "linecolor": "white",
            "showbackground": true,
            "ticks": "",
            "zerolinecolor": "white"
           },
           "zaxis": {
            "backgroundcolor": "#E5ECF6",
            "gridcolor": "white",
            "gridwidth": 2,
            "linecolor": "white",
            "showbackground": true,
            "ticks": "",
            "zerolinecolor": "white"
           }
          },
          "shapedefaults": {
           "line": {
            "color": "#2a3f5f"
           }
          },
          "ternary": {
           "aaxis": {
            "gridcolor": "white",
            "linecolor": "white",
            "ticks": ""
           },
           "baxis": {
            "gridcolor": "white",
            "linecolor": "white",
            "ticks": ""
           },
           "bgcolor": "#E5ECF6",
           "caxis": {
            "gridcolor": "white",
            "linecolor": "white",
            "ticks": ""
           }
          },
          "title": {
           "x": 0.05
          },
          "xaxis": {
           "automargin": true,
           "gridcolor": "white",
           "linecolor": "white",
           "ticks": "",
           "title": {
            "standoff": 15
           },
           "zerolinecolor": "white",
           "zerolinewidth": 2
          },
          "yaxis": {
           "automargin": true,
           "gridcolor": "white",
           "linecolor": "white",
           "ticks": "",
           "title": {
            "standoff": 15
           },
           "zerolinecolor": "white",
           "zerolinewidth": 2
          }
         }
        },
        "title": {
         "text": "What categories of majors makes more money than others?"
        },
        "width": 800,
        "xaxis": {
         "anchor": "y",
         "autorange": true,
         "domain": [
          0,
          1
         ],
         "range": [
          17111.11111111111,
          114888.88888888889
         ],
         "tickfont": {
          "family": "Arial Black"
         },
         "title": {
          "font": {
           "family": "Time NEw Roman",
           "size": 20
          },
          "text": "Median"
         },
         "type": "linear"
        },
        "yaxis": {
         "anchor": "x",
         "autorange": true,
         "domain": [
          0,
          1
         ],
         "range": [
          -0.5,
          15.5
         ],
         "tickfont": {
          "family": "Arial Black"
         },
         "title": {
          "font": {
           "family": "Times New Roman",
           "size": 20
          },
          "text": "Major_category"
         },
         "type": "category"
        }
       }
      },
      "image/png": "[encoded data removed]"
     },
     "metadata": {},
     "output_type": "display_data"
    }
   ],
   "source": [
    "fig = px.box(major_processed, x='Median',\n",
    "             y='Major_category',\n",
    "             title=\"What categories of majors makes more money than others?\",\n",
    "             width=800, height=500)\n",
    "# Update axes\n",
    "fig.update_xaxes(title_font = dict(size=20,family='Time NEw Roman'))\n",
    "fig.update_xaxes(tickfont_family=\"Arial Black\")\n",
    "\n",
    "fig.update_yaxes(title_font=dict(size=20, family='Times New Roman'))\n",
    "fig.update_yaxes(tickfont_family=\"Arial Black\")\n",
    "\n",
    "fig.update_layout({\n",
    "                    'plot_bgcolor':'gold',\n",
    "                    'paper_bgcolor':'ghostwhite'})\n",
    "fig.show()"
   ]
  },
  {
   "cell_type": "markdown",
   "metadata": {},
   "source": [
    "### What are the highest earning majors?"
   ]
  },
  {
   "cell_type": "code",
   "execution_count": 47,
   "metadata": {},
   "outputs": [
    {
     "data": {
      "application/vnd.plotly.v1+json": {
       "config": {
        "plotlyServerURL": "https://plot.ly"
       },
       "data": [
        {
         "error_x": {
          "array": [
           75000,
           75000,
           72000,
           70000,
           70000,
           67000,
           69000,
           60000,
           65000
          ],
          "arrayminus": [
           50000,
           45000,
           45000,
           48000,
           42000,
           37900,
           36000,
           40000,
           39000
          ]
         },
         "hovertemplate": "Major_category=Engineering<br>Median=%{x}<br>Major=%{y}<extra></extra>",
         "legendgroup": "Engineering",
         "marker": {
          "color": "#636efa",
          "symbol": "circle"
         },
         "mode": "markers",
         "name": "Engineering",
         "orientation": "h",
         "showlegend": true,
         "type": "scatter",
         "x": [
          65000,
          60000,
          60000,
          60000,
          60000,
          57000,
          56000,
          50000,
          50000
         ],
         "xaxis": "x",
         "y": [
          "Chemical Engineering",
          "Computer Engineering",
          "Electrical Engineering",
          "Mechanical Engineering",
          "Aerospace Engineering",
          "Industrial And Manufacturing Engineering",
          "General Engineering",
          "Civil Engineering",
          "Miscellaneous Engineering"
         ],
         "yaxis": "y"
        },
        {
         "error_x": {
          "array": [
           70000,
           58000
          ],
          "arrayminus": [
           39000,
           32500
          ]
         },
         "hovertemplate": "Major_category=Computers & Mathematics<br>Median=%{x}<br>Major=%{y}<extra></extra>",
         "legendgroup": "Computers & Mathematics",
         "marker": {
          "color": "#EF553B",
          "symbol": "circle"
         },
         "mode": "markers",
         "name": "Computers & Mathematics",
         "orientation": "h",
         "showlegend": true,
         "type": "scatter",
         "x": [
          53000,
          45000
         ],
         "xaxis": "x",
         "y": [
          "Computer Science",
          "Information Sciences"
         ],
         "yaxis": "y"
        },
        {
         "error_x": {
          "array": [
           60000,
           60000,
           64000,
           58000,
           56000
          ],
          "arrayminus": [
           38000,
           40000,
           35000,
           33000,
           34000
          ]
         },
         "hovertemplate": "Major_category=Business<br>Median=%{x}<br>Major=%{y}<extra></extra>",
         "legendgroup": "Business",
         "marker": {
          "color": "#00cc96",
          "symbol": "circle"
         },
         "mode": "markers",
         "name": "Business",
         "orientation": "h",
         "showlegend": true,
         "type": "scatter",
         "x": [
          51000,
          50000,
          47000,
          46000,
          45000
         ],
         "xaxis": "x",
         "y": [
          "Management Information Systems And Statistics",
          "Operations Logistics And E-Commerce",
          "Finance",
          "Business Economics",
          "Accounting"
         ],
         "yaxis": "y"
        },
        {
         "error_x": {
          "array": [
           60000
          ],
          "arrayminus": [
           36000
          ]
         },
         "hovertemplate": "Major_category=Industrial Arts & Consumer Services<br>Median=%{x}<br>Major=%{y}<extra></extra>",
         "legendgroup": "Industrial Arts & Consumer Services",
         "marker": {
          "color": "#ab63fa",
          "symbol": "circle"
         },
         "mode": "markers",
         "name": "Industrial Arts & Consumer Services",
         "orientation": "h",
         "showlegend": true,
         "type": "scatter",
         "x": [
          50000
         ],
         "xaxis": "x",
         "y": [
          "Construction Services"
         ],
         "yaxis": "y"
        },
        {
         "error_x": {
          "array": [
           58000,
           50000
          ],
          "arrayminus": [
           39000,
           36000
          ]
         },
         "hovertemplate": "Major_category=Health<br>Median=%{x}<br>Major=%{y}<extra></extra>",
         "legendgroup": "Health",
         "marker": {
          "color": "#FFA15A",
          "symbol": "circle"
         },
         "mode": "markers",
         "name": "Health",
         "orientation": "h",
         "showlegend": true,
         "type": "scatter",
         "x": [
          48000,
          45000
         ],
         "xaxis": "x",
         "y": [
          "Nursing",
          "Medical Technologies Technicians"
         ],
         "yaxis": "y"
        },
        {
         "error_x": {
          "array": [
           65000
          ],
          "arrayminus": [
           35000
          ]
         },
         "hovertemplate": "Major_category=Social Science<br>Median=%{x}<br>Major=%{y}<extra></extra>",
         "legendgroup": "Social Science",
         "marker": {
          "color": "#19d3f3",
          "symbol": "circle"
         },
         "mode": "markers",
         "name": "Social Science",
         "orientation": "h",
         "showlegend": true,
         "type": "scatter",
         "x": [
          47000
         ],
         "xaxis": "x",
         "y": [
          "Economics"
         ],
         "yaxis": "y"
        }
       ],
       "layout": {
        "height": 700,
        "legend": {
         "title": {
          "text": "Major_category"
         },
         "tracegroupgap": 0
        },
        "paper_bgcolor": "ghostwhite",
        "plot_bgcolor": "gold",
        "template": {
         "data": {
          "bar": [
           {
            "error_x": {
             "color": "#2a3f5f"
            },
            "error_y": {
             "color": "#2a3f5f"
            },
            "marker": {
             "line": {
              "color": "#E5ECF6",
              "width": 0.5
             }
            },
            "type": "bar"
           }
          ],
          "barpolar": [
           {
            "marker": {
             "line": {
              "color": "#E5ECF6",
              "width": 0.5
             }
            },
            "type": "barpolar"
           }
          ],
          "carpet": [
           {
            "aaxis": {
             "endlinecolor": "#2a3f5f",
             "gridcolor": "white",
             "linecolor": "white",
             "minorgridcolor": "white",
             "startlinecolor": "#2a3f5f"
            },
            "baxis": {
             "endlinecolor": "#2a3f5f",
             "gridcolor": "white",
             "linecolor": "white",
             "minorgridcolor": "white",
             "startlinecolor": "#2a3f5f"
            },
            "type": "carpet"
           }
          ],
          "choropleth": [
           {
            "colorbar": {
             "outlinewidth": 0,
             "ticks": ""
            },
            "type": "choropleth"
           }
          ],
          "contour": [
           {
            "colorbar": {
             "outlinewidth": 0,
             "ticks": ""
            },
            "colorscale": [
             [
              0,
              "#0d0887"
             ],
             [
              0.1111111111111111,
              "#46039f"
             ],
             [
              0.2222222222222222,
              "#7201a8"
             ],
             [
              0.3333333333333333,
              "#9c179e"
             ],
             [
              0.4444444444444444,
              "#bd3786"
             ],
             [
              0.5555555555555556,
              "#d8576b"
             ],
             [
              0.6666666666666666,
              "#ed7953"
             ],
             [
              0.7777777777777778,
              "#fb9f3a"
             ],
             [
              0.8888888888888888,
              "#fdca26"
             ],
             [
              1,
              "#f0f921"
             ]
            ],
            "type": "contour"
           }
          ],
          "contourcarpet": [
           {
            "colorbar": {
             "outlinewidth": 0,
             "ticks": ""
            },
            "type": "contourcarpet"
           }
          ],
          "heatmap": [
           {
            "colorbar": {
             "outlinewidth": 0,
             "ticks": ""
            },
            "colorscale": [
             [
              0,
              "#0d0887"
             ],
             [
              0.1111111111111111,
              "#46039f"
             ],
             [
              0.2222222222222222,
              "#7201a8"
             ],
             [
              0.3333333333333333,
              "#9c179e"
             ],
             [
              0.4444444444444444,
              "#bd3786"
             ],
             [
              0.5555555555555556,
              "#d8576b"
             ],
             [
              0.6666666666666666,
              "#ed7953"
             ],
             [
              0.7777777777777778,
              "#fb9f3a"
             ],
             [
              0.8888888888888888,
              "#fdca26"
             ],
             [
              1,
              "#f0f921"
             ]
            ],
            "type": "heatmap"
           }
          ],
          "heatmapgl": [
           {
            "colorbar": {
             "outlinewidth": 0,
             "ticks": ""
            },
            "colorscale": [
             [
              0,
              "#0d0887"
             ],
             [
              0.1111111111111111,
              "#46039f"
             ],
             [
              0.2222222222222222,
              "#7201a8"
             ],
             [
              0.3333333333333333,
              "#9c179e"
             ],
             [
              0.4444444444444444,
              "#bd3786"
             ],
             [
              0.5555555555555556,
              "#d8576b"
             ],
             [
              0.6666666666666666,
              "#ed7953"
             ],
             [
              0.7777777777777778,
              "#fb9f3a"
             ],
             [
              0.8888888888888888,
              "#fdca26"
             ],
             [
              1,
              "#f0f921"
             ]
            ],
            "type": "heatmapgl"
           }
          ],
          "histogram": [
           {
            "marker": {
             "colorbar": {
              "outlinewidth": 0,
              "ticks": ""
             }
            },
            "type": "histogram"
           }
          ],
          "histogram2d": [
           {
            "colorbar": {
             "outlinewidth": 0,
             "ticks": ""
            },
            "colorscale": [
             [
              0,
              "#0d0887"
             ],
             [
              0.1111111111111111,
              "#46039f"
             ],
             [
              0.2222222222222222,
              "#7201a8"
             ],
             [
              0.3333333333333333,
              "#9c179e"
             ],
             [
              0.4444444444444444,
              "#bd3786"
             ],
             [
              0.5555555555555556,
              "#d8576b"
             ],
             [
              0.6666666666666666,
              "#ed7953"
             ],
             [
              0.7777777777777778,
              "#fb9f3a"
             ],
             [
              0.8888888888888888,
              "#fdca26"
             ],
             [
              1,
              "#f0f921"
             ]
            ],
            "type": "histogram2d"
           }
          ],
          "histogram2dcontour": [
           {
            "colorbar": {
             "outlinewidth": 0,
             "ticks": ""
            },
            "colorscale": [
             [
              0,
              "#0d0887"
             ],
             [
              0.1111111111111111,
              "#46039f"
             ],
             [
              0.2222222222222222,
              "#7201a8"
             ],
             [
              0.3333333333333333,
              "#9c179e"
             ],
             [
              0.4444444444444444,
              "#bd3786"
             ],
             [
              0.5555555555555556,
              "#d8576b"
             ],
             [
              0.6666666666666666,
              "#ed7953"
             ],
             [
              0.7777777777777778,
              "#fb9f3a"
             ],
             [
              0.8888888888888888,
              "#fdca26"
             ],
             [
              1,
              "#f0f921"
             ]
            ],
            "type": "histogram2dcontour"
           }
          ],
          "mesh3d": [
           {
            "colorbar": {
             "outlinewidth": 0,
             "ticks": ""
            },
            "type": "mesh3d"
           }
          ],
          "parcoords": [
           {
            "line": {
             "colorbar": {
              "outlinewidth": 0,
              "ticks": ""
             }
            },
            "type": "parcoords"
           }
          ],
          "pie": [
           {
            "automargin": true,
            "type": "pie"
           }
          ],
          "scatter": [
           {
            "marker": {
             "colorbar": {
              "outlinewidth": 0,
              "ticks": ""
             }
            },
            "type": "scatter"
           }
          ],
          "scatter3d": [
           {
            "line": {
             "colorbar": {
              "outlinewidth": 0,
              "ticks": ""
             }
            },
            "marker": {
             "colorbar": {
              "outlinewidth": 0,
              "ticks": ""
             }
            },
            "type": "scatter3d"
           }
          ],
          "scattercarpet": [
           {
            "marker": {
             "colorbar": {
              "outlinewidth": 0,
              "ticks": ""
             }
            },
            "type": "scattercarpet"
           }
          ],
          "scattergeo": [
           {
            "marker": {
             "colorbar": {
              "outlinewidth": 0,
              "ticks": ""
             }
            },
            "type": "scattergeo"
           }
          ],
          "scattergl": [
           {
            "marker": {
             "colorbar": {
              "outlinewidth": 0,
              "ticks": ""
             }
            },
            "type": "scattergl"
           }
          ],
          "scattermapbox": [
           {
            "marker": {
             "colorbar": {
              "outlinewidth": 0,
              "ticks": ""
             }
            },
            "type": "scattermapbox"
           }
          ],
          "scatterpolar": [
           {
            "marker": {
             "colorbar": {
              "outlinewidth": 0,
              "ticks": ""
             }
            },
            "type": "scatterpolar"
           }
          ],
          "scatterpolargl": [
           {
            "marker": {
             "colorbar": {
              "outlinewidth": 0,
              "ticks": ""
             }
            },
            "type": "scatterpolargl"
           }
          ],
          "scatterternary": [
           {
            "marker": {
             "colorbar": {
              "outlinewidth": 0,
              "ticks": ""
             }
            },
            "type": "scatterternary"
           }
          ],
          "surface": [
           {
            "colorbar": {
             "outlinewidth": 0,
             "ticks": ""
            },
            "colorscale": [
             [
              0,
              "#0d0887"
             ],
             [
              0.1111111111111111,
              "#46039f"
             ],
             [
              0.2222222222222222,
              "#7201a8"
             ],
             [
              0.3333333333333333,
              "#9c179e"
             ],
             [
              0.4444444444444444,
              "#bd3786"
             ],
             [
              0.5555555555555556,
              "#d8576b"
             ],
             [
              0.6666666666666666,
              "#ed7953"
             ],
             [
              0.7777777777777778,
              "#fb9f3a"
             ],
             [
              0.8888888888888888,
              "#fdca26"
             ],
             [
              1,
              "#f0f921"
             ]
            ],
            "type": "surface"
           }
          ],
          "table": [
           {
            "cells": {
             "fill": {
              "color": "#EBF0F8"
             },
             "line": {
              "color": "white"
             }
            },
            "header": {
             "fill": {
              "color": "#C8D4E3"
             },
             "line": {
              "color": "white"
             }
            },
            "type": "table"
           }
          ]
         },
         "layout": {
          "annotationdefaults": {
           "arrowcolor": "#2a3f5f",
           "arrowhead": 0,
           "arrowwidth": 1
          },
          "autotypenumbers": "strict",
          "coloraxis": {
           "colorbar": {
            "outlinewidth": 0,
            "ticks": ""
           }
          },
          "colorscale": {
           "diverging": [
            [
             0,
             "#8e0152"
            ],
            [
             0.1,
             "#c51b7d"
            ],
            [
             0.2,
             "#de77ae"
            ],
            [
             0.3,
             "#f1b6da"
            ],
            [
             0.4,
             "#fde0ef"
            ],
            [
             0.5,
             "#f7f7f7"
            ],
            [
             0.6,
             "#e6f5d0"
            ],
            [
             0.7,
             "#b8e186"
            ],
            [
             0.8,
             "#7fbc41"
            ],
            [
             0.9,
             "#4d9221"
            ],
            [
             1,
             "#276419"
            ]
           ],
           "sequential": [
            [
             0,
             "#0d0887"
            ],
            [
             0.1111111111111111,
             "#46039f"
            ],
            [
             0.2222222222222222,
             "#7201a8"
            ],
            [
             0.3333333333333333,
             "#9c179e"
            ],
            [
             0.4444444444444444,
             "#bd3786"
            ],
            [
             0.5555555555555556,
             "#d8576b"
            ],
            [
             0.6666666666666666,
             "#ed7953"
            ],
            [
             0.7777777777777778,
             "#fb9f3a"
            ],
            [
             0.8888888888888888,
             "#fdca26"
            ],
            [
             1,
             "#f0f921"
            ]
           ],
           "sequentialminus": [
            [
             0,
             "#0d0887"
            ],
            [
             0.1111111111111111,
             "#46039f"
            ],
            [
             0.2222222222222222,
             "#7201a8"
            ],
            [
             0.3333333333333333,
             "#9c179e"
            ],
            [
             0.4444444444444444,
             "#bd3786"
            ],
            [
             0.5555555555555556,
             "#d8576b"
            ],
            [
             0.6666666666666666,
             "#ed7953"
            ],
            [
             0.7777777777777778,
             "#fb9f3a"
            ],
            [
             0.8888888888888888,
             "#fdca26"
            ],
            [
             1,
             "#f0f921"
            ]
           ]
          },
          "colorway": [
           "#636efa",
           "#EF553B",
           "#00cc96",
           "#ab63fa",
           "#FFA15A",
           "#19d3f3",
           "#FF6692",
           "#B6E880",
           "#FF97FF",
           "#FECB52"
          ],
          "font": {
           "color": "#2a3f5f"
          },
          "geo": {
           "bgcolor": "white",
           "lakecolor": "white",
           "landcolor": "#E5ECF6",
           "showlakes": true,
           "showland": true,
           "subunitcolor": "white"
          },
          "hoverlabel": {
           "align": "left"
          },
          "hovermode": "closest",
          "mapbox": {
           "style": "light"
          },
          "paper_bgcolor": "white",
          "plot_bgcolor": "#E5ECF6",
          "polar": {
           "angularaxis": {
            "gridcolor": "white",
            "linecolor": "white",
            "ticks": ""
           },
           "bgcolor": "#E5ECF6",
           "radialaxis": {
            "gridcolor": "white",
            "linecolor": "white",
            "ticks": ""
           }
          },
          "scene": {
           "xaxis": {
            "backgroundcolor": "#E5ECF6",
            "gridcolor": "white",
            "gridwidth": 2,
            "linecolor": "white",
            "showbackground": true,
            "ticks": "",
            "zerolinecolor": "white"
           },
           "yaxis": {
            "backgroundcolor": "#E5ECF6",
            "gridcolor": "white",
            "gridwidth": 2,
            "linecolor": "white",
            "showbackground": true,
            "ticks": "",
            "zerolinecolor": "white"
           },
           "zaxis": {
            "backgroundcolor": "#E5ECF6",
            "gridcolor": "white",
            "gridwidth": 2,
            "linecolor": "white",
            "showbackground": true,
            "ticks": "",
            "zerolinecolor": "white"
           }
          },
          "shapedefaults": {
           "line": {
            "color": "#2a3f5f"
           }
          },
          "ternary": {
           "aaxis": {
            "gridcolor": "white",
            "linecolor": "white",
            "ticks": ""
           },
           "baxis": {
            "gridcolor": "white",
            "linecolor": "white",
            "ticks": ""
           },
           "bgcolor": "#E5ECF6",
           "caxis": {
            "gridcolor": "white",
            "linecolor": "white",
            "ticks": ""
           }
          },
          "title": {
           "x": 0.05
          },
          "xaxis": {
           "automargin": true,
           "gridcolor": "white",
           "linecolor": "white",
           "ticks": "",
           "title": {
            "standoff": 15
           },
           "zerolinecolor": "white",
           "zerolinewidth": 2
          },
          "yaxis": {
           "automargin": true,
           "gridcolor": "white",
           "linecolor": "white",
           "ticks": "",
           "title": {
            "standoff": 15
           },
           "zerolinecolor": "white",
           "zerolinewidth": 2
          }
         }
        },
        "title": {
         "text": "Top 20 majors with at least 100 graduates surveyed. Bars = 25th to 75th percentile."
        },
        "width": 800,
        "xaxis": {
         "anchor": "y",
         "domain": [
          0,
          1
         ],
         "range": [
          0,
          150000
         ],
         "tickfont": {
          "family": "Arial Black"
         },
         "title": {
          "font": {
           "family": "Time NEw Roman",
           "size": 20
          },
          "text": "Median"
         },
         "type": "linear"
        },
        "yaxis": {
         "anchor": "x",
         "autorange": true,
         "domain": [
          0,
          1
         ],
         "range": [
          -1.2274701411509228,
          20.227470141150924
         ],
         "tickfont": {
          "family": "Arial Black"
         },
         "title": {
          "font": {
           "family": "Times New Roman",
           "size": 20
          },
          "text": "Major"
         },
         "type": "category"
        }
       }
      },
      "image/png": "[encoded data removed]"
     },
     "metadata": {},
     "output_type": "display_data"
    }
   ],
   "source": [
    "major_processed = major_processed[major_processed['Sample_size']>=100]\n",
    "major_processed = major_processed.head(20)\n",
    "fig = px.scatter(major_processed, x='Median', y='Major',\n",
    "                color='Major_category',width=800, height=700,\n",
    "                 error_x_minus=\"P25th\", error_x=\"P75th\",\n",
    "                 title=\"Top 20 majors with at least 100 graduates surveyed. Bars = 25th to 75th percentile.\"\n",
    "                )\n",
    "\n",
    "fig.update_xaxes(\n",
    "    range=[0, 150000]  # sets the range of xaxis\n",
    "    \n",
    ")\n",
    "# Update axes\n",
    "fig.update_xaxes(title_font = dict(size=20,family='Time NEw Roman'))\n",
    "fig.update_xaxes(tickfont_family=\"Arial Black\")\n",
    "\n",
    "fig.update_yaxes(title_font=dict(size=20, family='Times New Roman'))\n",
    "fig.update_yaxes(tickfont_family=\"Arial Black\")\n",
    "\n",
    "fig.update_layout({\n",
    "                    'plot_bgcolor':'gold',\n",
    "                    'paper_bgcolor':'ghostwhite'})\n",
    "fig.show()"
   ]
  },
  {
   "cell_type": "markdown",
   "metadata": {},
   "source": [
    "### How does gender breakdown relate to typical earnings"
   ]
  },
  {
   "cell_type": "code",
   "execution_count": 21,
   "metadata": {},
   "outputs": [
    {
     "data": {
      "text/html": [
       "<div>\n",
       "<style scoped>\n",
       "    .dataframe tbody tr th:only-of-type {\n",
       "        vertical-align: middle;\n",
       "    }\n",
       "\n",
       "    .dataframe tbody tr th {\n",
       "        vertical-align: top;\n",
       "    }\n",
       "\n",
       "    .dataframe thead th {\n",
       "        text-align: right;\n",
       "    }\n",
       "</style>\n",
       "<table border=\"1\" class=\"dataframe\">\n",
       "  <thead>\n",
       "    <tr style=\"text-align: right;\">\n",
       "      <th></th>\n",
       "      <th>Rank</th>\n",
       "      <th>Major_code</th>\n",
       "      <th>Major</th>\n",
       "      <th>Total</th>\n",
       "      <th>Major_category</th>\n",
       "      <th>ShareWomen</th>\n",
       "      <th>Sample_size</th>\n",
       "      <th>Employed</th>\n",
       "      <th>Full_time</th>\n",
       "      <th>Part_time</th>\n",
       "      <th>Full_time_year_round</th>\n",
       "      <th>Unemployed</th>\n",
       "      <th>Unemployment_rate</th>\n",
       "      <th>Median</th>\n",
       "      <th>P25th</th>\n",
       "      <th>P75th</th>\n",
       "      <th>College_jobs</th>\n",
       "      <th>Non_college_jobs</th>\n",
       "      <th>Low_wage_jobs</th>\n",
       "      <th>Gender</th>\n",
       "      <th>Number</th>\n",
       "    </tr>\n",
       "  </thead>\n",
       "  <tbody>\n",
       "    <tr>\n",
       "      <th>0</th>\n",
       "      <td>146</td>\n",
       "      <td>5200</td>\n",
       "      <td>Psychology</td>\n",
       "      <td>393735.0</td>\n",
       "      <td>Psychology &amp; Social Work</td>\n",
       "      <td>0.779933</td>\n",
       "      <td>2584</td>\n",
       "      <td>307933</td>\n",
       "      <td>233205</td>\n",
       "      <td>115172</td>\n",
       "      <td>174438</td>\n",
       "      <td>28169</td>\n",
       "      <td>0.083811</td>\n",
       "      <td>31500</td>\n",
       "      <td>24000</td>\n",
       "      <td>41000</td>\n",
       "      <td>125148</td>\n",
       "      <td>141860</td>\n",
       "      <td>48207</td>\n",
       "      <td>Men</td>\n",
       "      <td>86648.0</td>\n",
       "    </tr>\n",
       "    <tr>\n",
       "      <th>1</th>\n",
       "      <td>77</td>\n",
       "      <td>6203</td>\n",
       "      <td>Business Management And Administration</td>\n",
       "      <td>329927.0</td>\n",
       "      <td>Business</td>\n",
       "      <td>0.473190</td>\n",
       "      <td>4212</td>\n",
       "      <td>276234</td>\n",
       "      <td>251540</td>\n",
       "      <td>50357</td>\n",
       "      <td>199897</td>\n",
       "      <td>21502</td>\n",
       "      <td>0.072218</td>\n",
       "      <td>38000</td>\n",
       "      <td>29000</td>\n",
       "      <td>50000</td>\n",
       "      <td>36720</td>\n",
       "      <td>148395</td>\n",
       "      <td>32395</td>\n",
       "      <td>Men</td>\n",
       "      <td>173809.0</td>\n",
       "    </tr>\n",
       "    <tr>\n",
       "      <th>2</th>\n",
       "      <td>124</td>\n",
       "      <td>3600</td>\n",
       "      <td>Biology</td>\n",
       "      <td>280709.0</td>\n",
       "      <td>Biology &amp; Life Science</td>\n",
       "      <td>0.601858</td>\n",
       "      <td>1370</td>\n",
       "      <td>182295</td>\n",
       "      <td>144512</td>\n",
       "      <td>72371</td>\n",
       "      <td>100336</td>\n",
       "      <td>13874</td>\n",
       "      <td>0.070725</td>\n",
       "      <td>33400</td>\n",
       "      <td>24000</td>\n",
       "      <td>45000</td>\n",
       "      <td>88232</td>\n",
       "      <td>81109</td>\n",
       "      <td>28339</td>\n",
       "      <td>Men</td>\n",
       "      <td>111762.0</td>\n",
       "    </tr>\n",
       "    <tr>\n",
       "      <th>3</th>\n",
       "      <td>58</td>\n",
       "      <td>6200</td>\n",
       "      <td>General Business</td>\n",
       "      <td>234590.0</td>\n",
       "      <td>Business</td>\n",
       "      <td>0.436302</td>\n",
       "      <td>2380</td>\n",
       "      <td>190183</td>\n",
       "      <td>171385</td>\n",
       "      <td>36241</td>\n",
       "      <td>138299</td>\n",
       "      <td>14946</td>\n",
       "      <td>0.072861</td>\n",
       "      <td>40000</td>\n",
       "      <td>30000</td>\n",
       "      <td>55000</td>\n",
       "      <td>29334</td>\n",
       "      <td>100831</td>\n",
       "      <td>27320</td>\n",
       "      <td>Men</td>\n",
       "      <td>132238.0</td>\n",
       "    </tr>\n",
       "    <tr>\n",
       "      <th>4</th>\n",
       "      <td>94</td>\n",
       "      <td>1901</td>\n",
       "      <td>Communications</td>\n",
       "      <td>213996.0</td>\n",
       "      <td>Communications &amp; Journalism</td>\n",
       "      <td>0.669999</td>\n",
       "      <td>2394</td>\n",
       "      <td>179633</td>\n",
       "      <td>147335</td>\n",
       "      <td>49889</td>\n",
       "      <td>116251</td>\n",
       "      <td>14602</td>\n",
       "      <td>0.075177</td>\n",
       "      <td>35000</td>\n",
       "      <td>27000</td>\n",
       "      <td>45000</td>\n",
       "      <td>40763</td>\n",
       "      <td>97964</td>\n",
       "      <td>27440</td>\n",
       "      <td>Men</td>\n",
       "      <td>70619.0</td>\n",
       "    </tr>\n",
       "    <tr>\n",
       "      <th>5</th>\n",
       "      <td>35</td>\n",
       "      <td>6107</td>\n",
       "      <td>Nursing</td>\n",
       "      <td>209394.0</td>\n",
       "      <td>Health</td>\n",
       "      <td>0.896019</td>\n",
       "      <td>2554</td>\n",
       "      <td>180903</td>\n",
       "      <td>151191</td>\n",
       "      <td>40818</td>\n",
       "      <td>122817</td>\n",
       "      <td>8497</td>\n",
       "      <td>0.044863</td>\n",
       "      <td>48000</td>\n",
       "      <td>39000</td>\n",
       "      <td>58000</td>\n",
       "      <td>151643</td>\n",
       "      <td>26146</td>\n",
       "      <td>6193</td>\n",
       "      <td>Men</td>\n",
       "      <td>21773.0</td>\n",
       "    </tr>\n",
       "    <tr>\n",
       "      <th>6</th>\n",
       "      <td>78</td>\n",
       "      <td>6206</td>\n",
       "      <td>Marketing And Marketing Research</td>\n",
       "      <td>205211.0</td>\n",
       "      <td>Business</td>\n",
       "      <td>0.615727</td>\n",
       "      <td>2684</td>\n",
       "      <td>178862</td>\n",
       "      <td>156668</td>\n",
       "      <td>35829</td>\n",
       "      <td>127230</td>\n",
       "      <td>11663</td>\n",
       "      <td>0.061215</td>\n",
       "      <td>38000</td>\n",
       "      <td>30000</td>\n",
       "      <td>50000</td>\n",
       "      <td>25320</td>\n",
       "      <td>93889</td>\n",
       "      <td>27968</td>\n",
       "      <td>Men</td>\n",
       "      <td>78857.0</td>\n",
       "    </tr>\n",
       "    <tr>\n",
       "      <th>7</th>\n",
       "      <td>41</td>\n",
       "      <td>6201</td>\n",
       "      <td>Accounting</td>\n",
       "      <td>198633.0</td>\n",
       "      <td>Business</td>\n",
       "      <td>0.524153</td>\n",
       "      <td>2042</td>\n",
       "      <td>165527</td>\n",
       "      <td>151967</td>\n",
       "      <td>27693</td>\n",
       "      <td>123169</td>\n",
       "      <td>12411</td>\n",
       "      <td>0.069749</td>\n",
       "      <td>45000</td>\n",
       "      <td>34000</td>\n",
       "      <td>56000</td>\n",
       "      <td>11417</td>\n",
       "      <td>39323</td>\n",
       "      <td>10886</td>\n",
       "      <td>Men</td>\n",
       "      <td>94519.0</td>\n",
       "    </tr>\n",
       "    <tr>\n",
       "      <th>8</th>\n",
       "      <td>138</td>\n",
       "      <td>3301</td>\n",
       "      <td>English Language And Literature</td>\n",
       "      <td>194673.0</td>\n",
       "      <td>Humanities &amp; Liberal Arts</td>\n",
       "      <td>0.700898</td>\n",
       "      <td>1436</td>\n",
       "      <td>149180</td>\n",
       "      <td>114386</td>\n",
       "      <td>57825</td>\n",
       "      <td>81180</td>\n",
       "      <td>14345</td>\n",
       "      <td>0.087724</td>\n",
       "      <td>32000</td>\n",
       "      <td>23000</td>\n",
       "      <td>41000</td>\n",
       "      <td>57690</td>\n",
       "      <td>71827</td>\n",
       "      <td>26503</td>\n",
       "      <td>Men</td>\n",
       "      <td>58227.0</td>\n",
       "    </tr>\n",
       "    <tr>\n",
       "      <th>9</th>\n",
       "      <td>79</td>\n",
       "      <td>5506</td>\n",
       "      <td>Political Science And Government</td>\n",
       "      <td>182621.0</td>\n",
       "      <td>Social Science</td>\n",
       "      <td>0.485930</td>\n",
       "      <td>1387</td>\n",
       "      <td>133454</td>\n",
       "      <td>117709</td>\n",
       "      <td>43711</td>\n",
       "      <td>83236</td>\n",
       "      <td>15022</td>\n",
       "      <td>0.101175</td>\n",
       "      <td>38000</td>\n",
       "      <td>28000</td>\n",
       "      <td>50000</td>\n",
       "      <td>36854</td>\n",
       "      <td>66947</td>\n",
       "      <td>19803</td>\n",
       "      <td>Men</td>\n",
       "      <td>93880.0</td>\n",
       "    </tr>\n",
       "    <tr>\n",
       "      <th>10</th>\n",
       "      <td>36</td>\n",
       "      <td>6207</td>\n",
       "      <td>Finance</td>\n",
       "      <td>174506.0</td>\n",
       "      <td>Business</td>\n",
       "      <td>0.340825</td>\n",
       "      <td>2189</td>\n",
       "      <td>145696</td>\n",
       "      <td>137921</td>\n",
       "      <td>21463</td>\n",
       "      <td>108595</td>\n",
       "      <td>9413</td>\n",
       "      <td>0.060686</td>\n",
       "      <td>47000</td>\n",
       "      <td>35000</td>\n",
       "      <td>64000</td>\n",
       "      <td>24243</td>\n",
       "      <td>48447</td>\n",
       "      <td>9910</td>\n",
       "      <td>Men</td>\n",
       "      <td>115030.0</td>\n",
       "    </tr>\n",
       "    <tr>\n",
       "      <th>11</th>\n",
       "      <td>139</td>\n",
       "      <td>2304</td>\n",
       "      <td>Elementary Education</td>\n",
       "      <td>170862.0</td>\n",
       "      <td>Education</td>\n",
       "      <td>0.923745</td>\n",
       "      <td>1629</td>\n",
       "      <td>149339</td>\n",
       "      <td>123177</td>\n",
       "      <td>37965</td>\n",
       "      <td>86540</td>\n",
       "      <td>7297</td>\n",
       "      <td>0.046586</td>\n",
       "      <td>32000</td>\n",
       "      <td>23400</td>\n",
       "      <td>38000</td>\n",
       "      <td>108085</td>\n",
       "      <td>36972</td>\n",
       "      <td>11502</td>\n",
       "      <td>Men</td>\n",
       "      <td>13029.0</td>\n",
       "    </tr>\n",
       "    <tr>\n",
       "      <th>12</th>\n",
       "      <td>95</td>\n",
       "      <td>5301</td>\n",
       "      <td>Criminal Justice And Fire Protection</td>\n",
       "      <td>152824.0</td>\n",
       "      <td>Law &amp; Public Policy</td>\n",
       "      <td>0.475010</td>\n",
       "      <td>1728</td>\n",
       "      <td>125393</td>\n",
       "      <td>109970</td>\n",
       "      <td>32242</td>\n",
       "      <td>88548</td>\n",
       "      <td>11268</td>\n",
       "      <td>0.082452</td>\n",
       "      <td>35000</td>\n",
       "      <td>26000</td>\n",
       "      <td>45000</td>\n",
       "      <td>24348</td>\n",
       "      <td>88858</td>\n",
       "      <td>18404</td>\n",
       "      <td>Men</td>\n",
       "      <td>80231.0</td>\n",
       "    </tr>\n",
       "    <tr>\n",
       "      <th>13</th>\n",
       "      <td>114</td>\n",
       "      <td>2300</td>\n",
       "      <td>General Education</td>\n",
       "      <td>143718.0</td>\n",
       "      <td>Education</td>\n",
       "      <td>0.812877</td>\n",
       "      <td>919</td>\n",
       "      <td>118241</td>\n",
       "      <td>98408</td>\n",
       "      <td>29558</td>\n",
       "      <td>73531</td>\n",
       "      <td>7195</td>\n",
       "      <td>0.057360</td>\n",
       "      <td>34000</td>\n",
       "      <td>26000</td>\n",
       "      <td>41000</td>\n",
       "      <td>82007</td>\n",
       "      <td>31112</td>\n",
       "      <td>11443</td>\n",
       "      <td>Men</td>\n",
       "      <td>26893.0</td>\n",
       "    </tr>\n",
       "    <tr>\n",
       "      <th>14</th>\n",
       "      <td>115</td>\n",
       "      <td>6402</td>\n",
       "      <td>History</td>\n",
       "      <td>141951.0</td>\n",
       "      <td>Humanities &amp; Liberal Arts</td>\n",
       "      <td>0.448732</td>\n",
       "      <td>1058</td>\n",
       "      <td>105646</td>\n",
       "      <td>84681</td>\n",
       "      <td>40657</td>\n",
       "      <td>59218</td>\n",
       "      <td>11176</td>\n",
       "      <td>0.095667</td>\n",
       "      <td>34000</td>\n",
       "      <td>25000</td>\n",
       "      <td>47000</td>\n",
       "      <td>35336</td>\n",
       "      <td>54569</td>\n",
       "      <td>16839</td>\n",
       "      <td>Men</td>\n",
       "      <td>78253.0</td>\n",
       "    </tr>\n",
       "    <tr>\n",
       "      <th>15</th>\n",
       "      <td>37</td>\n",
       "      <td>5501</td>\n",
       "      <td>Economics</td>\n",
       "      <td>139247.0</td>\n",
       "      <td>Social Science</td>\n",
       "      <td>0.355469</td>\n",
       "      <td>1322</td>\n",
       "      <td>104117</td>\n",
       "      <td>96567</td>\n",
       "      <td>25325</td>\n",
       "      <td>70740</td>\n",
       "      <td>11452</td>\n",
       "      <td>0.099092</td>\n",
       "      <td>47000</td>\n",
       "      <td>35000</td>\n",
       "      <td>65000</td>\n",
       "      <td>25582</td>\n",
       "      <td>37057</td>\n",
       "      <td>10653</td>\n",
       "      <td>Men</td>\n",
       "      <td>89749.0</td>\n",
       "    </tr>\n",
       "    <tr>\n",
       "      <th>16</th>\n",
       "      <td>21</td>\n",
       "      <td>2102</td>\n",
       "      <td>Computer Science</td>\n",
       "      <td>128319.0</td>\n",
       "      <td>Computers &amp; Mathematics</td>\n",
       "      <td>0.222695</td>\n",
       "      <td>1196</td>\n",
       "      <td>102087</td>\n",
       "      <td>91485</td>\n",
       "      <td>18726</td>\n",
       "      <td>70932</td>\n",
       "      <td>6884</td>\n",
       "      <td>0.063173</td>\n",
       "      <td>53000</td>\n",
       "      <td>39000</td>\n",
       "      <td>70000</td>\n",
       "      <td>68622</td>\n",
       "      <td>25667</td>\n",
       "      <td>5144</td>\n",
       "      <td>Men</td>\n",
       "      <td>99743.0</td>\n",
       "    </tr>\n",
       "    <tr>\n",
       "      <th>17</th>\n",
       "      <td>140</td>\n",
       "      <td>4101</td>\n",
       "      <td>Physical Fitness Parks Recreation And Leisure</td>\n",
       "      <td>125074.0</td>\n",
       "      <td>Industrial Arts &amp; Consumer Services</td>\n",
       "      <td>0.502846</td>\n",
       "      <td>1014</td>\n",
       "      <td>103078</td>\n",
       "      <td>77428</td>\n",
       "      <td>38515</td>\n",
       "      <td>57978</td>\n",
       "      <td>5593</td>\n",
       "      <td>0.051467</td>\n",
       "      <td>32000</td>\n",
       "      <td>24000</td>\n",
       "      <td>43000</td>\n",
       "      <td>27581</td>\n",
       "      <td>63946</td>\n",
       "      <td>16838</td>\n",
       "      <td>Men</td>\n",
       "      <td>62181.0</td>\n",
       "    </tr>\n",
       "    <tr>\n",
       "      <th>18</th>\n",
       "      <td>125</td>\n",
       "      <td>5507</td>\n",
       "      <td>Sociology</td>\n",
       "      <td>115433.0</td>\n",
       "      <td>Social Science</td>\n",
       "      <td>0.718365</td>\n",
       "      <td>1024</td>\n",
       "      <td>92721</td>\n",
       "      <td>73475</td>\n",
       "      <td>29639</td>\n",
       "      <td>56561</td>\n",
       "      <td>8608</td>\n",
       "      <td>0.084951</td>\n",
       "      <td>33000</td>\n",
       "      <td>25000</td>\n",
       "      <td>44000</td>\n",
       "      <td>29051</td>\n",
       "      <td>48899</td>\n",
       "      <td>13748</td>\n",
       "      <td>Men</td>\n",
       "      <td>32510.0</td>\n",
       "    </tr>\n",
       "    <tr>\n",
       "      <th>19</th>\n",
       "      <td>96</td>\n",
       "      <td>6004</td>\n",
       "      <td>Commercial Art And Graphic Design</td>\n",
       "      <td>103480.0</td>\n",
       "      <td>Arts</td>\n",
       "      <td>0.690365</td>\n",
       "      <td>1186</td>\n",
       "      <td>83483</td>\n",
       "      <td>67448</td>\n",
       "      <td>24387</td>\n",
       "      <td>52243</td>\n",
       "      <td>8947</td>\n",
       "      <td>0.096798</td>\n",
       "      <td>35000</td>\n",
       "      <td>25000</td>\n",
       "      <td>45000</td>\n",
       "      <td>37389</td>\n",
       "      <td>38119</td>\n",
       "      <td>14839</td>\n",
       "      <td>Men</td>\n",
       "      <td>32041.0</td>\n",
       "    </tr>\n",
       "    <tr>\n",
       "      <th>20</th>\n",
       "      <td>146</td>\n",
       "      <td>5200</td>\n",
       "      <td>Psychology</td>\n",
       "      <td>393735.0</td>\n",
       "      <td>Psychology &amp; Social Work</td>\n",
       "      <td>0.779933</td>\n",
       "      <td>2584</td>\n",
       "      <td>307933</td>\n",
       "      <td>233205</td>\n",
       "      <td>115172</td>\n",
       "      <td>174438</td>\n",
       "      <td>28169</td>\n",
       "      <td>0.083811</td>\n",
       "      <td>31500</td>\n",
       "      <td>24000</td>\n",
       "      <td>41000</td>\n",
       "      <td>125148</td>\n",
       "      <td>141860</td>\n",
       "      <td>48207</td>\n",
       "      <td>Women</td>\n",
       "      <td>307087.0</td>\n",
       "    </tr>\n",
       "    <tr>\n",
       "      <th>21</th>\n",
       "      <td>77</td>\n",
       "      <td>6203</td>\n",
       "      <td>Business Management And Administration</td>\n",
       "      <td>329927.0</td>\n",
       "      <td>Business</td>\n",
       "      <td>0.473190</td>\n",
       "      <td>4212</td>\n",
       "      <td>276234</td>\n",
       "      <td>251540</td>\n",
       "      <td>50357</td>\n",
       "      <td>199897</td>\n",
       "      <td>21502</td>\n",
       "      <td>0.072218</td>\n",
       "      <td>38000</td>\n",
       "      <td>29000</td>\n",
       "      <td>50000</td>\n",
       "      <td>36720</td>\n",
       "      <td>148395</td>\n",
       "      <td>32395</td>\n",
       "      <td>Women</td>\n",
       "      <td>156118.0</td>\n",
       "    </tr>\n",
       "    <tr>\n",
       "      <th>22</th>\n",
       "      <td>124</td>\n",
       "      <td>3600</td>\n",
       "      <td>Biology</td>\n",
       "      <td>280709.0</td>\n",
       "      <td>Biology &amp; Life Science</td>\n",
       "      <td>0.601858</td>\n",
       "      <td>1370</td>\n",
       "      <td>182295</td>\n",
       "      <td>144512</td>\n",
       "      <td>72371</td>\n",
       "      <td>100336</td>\n",
       "      <td>13874</td>\n",
       "      <td>0.070725</td>\n",
       "      <td>33400</td>\n",
       "      <td>24000</td>\n",
       "      <td>45000</td>\n",
       "      <td>88232</td>\n",
       "      <td>81109</td>\n",
       "      <td>28339</td>\n",
       "      <td>Women</td>\n",
       "      <td>168947.0</td>\n",
       "    </tr>\n",
       "    <tr>\n",
       "      <th>23</th>\n",
       "      <td>58</td>\n",
       "      <td>6200</td>\n",
       "      <td>General Business</td>\n",
       "      <td>234590.0</td>\n",
       "      <td>Business</td>\n",
       "      <td>0.436302</td>\n",
       "      <td>2380</td>\n",
       "      <td>190183</td>\n",
       "      <td>171385</td>\n",
       "      <td>36241</td>\n",
       "      <td>138299</td>\n",
       "      <td>14946</td>\n",
       "      <td>0.072861</td>\n",
       "      <td>40000</td>\n",
       "      <td>30000</td>\n",
       "      <td>55000</td>\n",
       "      <td>29334</td>\n",
       "      <td>100831</td>\n",
       "      <td>27320</td>\n",
       "      <td>Women</td>\n",
       "      <td>102352.0</td>\n",
       "    </tr>\n",
       "    <tr>\n",
       "      <th>24</th>\n",
       "      <td>94</td>\n",
       "      <td>1901</td>\n",
       "      <td>Communications</td>\n",
       "      <td>213996.0</td>\n",
       "      <td>Communications &amp; Journalism</td>\n",
       "      <td>0.669999</td>\n",
       "      <td>2394</td>\n",
       "      <td>179633</td>\n",
       "      <td>147335</td>\n",
       "      <td>49889</td>\n",
       "      <td>116251</td>\n",
       "      <td>14602</td>\n",
       "      <td>0.075177</td>\n",
       "      <td>35000</td>\n",
       "      <td>27000</td>\n",
       "      <td>45000</td>\n",
       "      <td>40763</td>\n",
       "      <td>97964</td>\n",
       "      <td>27440</td>\n",
       "      <td>Women</td>\n",
       "      <td>143377.0</td>\n",
       "    </tr>\n",
       "    <tr>\n",
       "      <th>25</th>\n",
       "      <td>35</td>\n",
       "      <td>6107</td>\n",
       "      <td>Nursing</td>\n",
       "      <td>209394.0</td>\n",
       "      <td>Health</td>\n",
       "      <td>0.896019</td>\n",
       "      <td>2554</td>\n",
       "      <td>180903</td>\n",
       "      <td>151191</td>\n",
       "      <td>40818</td>\n",
       "      <td>122817</td>\n",
       "      <td>8497</td>\n",
       "      <td>0.044863</td>\n",
       "      <td>48000</td>\n",
       "      <td>39000</td>\n",
       "      <td>58000</td>\n",
       "      <td>151643</td>\n",
       "      <td>26146</td>\n",
       "      <td>6193</td>\n",
       "      <td>Women</td>\n",
       "      <td>187621.0</td>\n",
       "    </tr>\n",
       "    <tr>\n",
       "      <th>26</th>\n",
       "      <td>78</td>\n",
       "      <td>6206</td>\n",
       "      <td>Marketing And Marketing Research</td>\n",
       "      <td>205211.0</td>\n",
       "      <td>Business</td>\n",
       "      <td>0.615727</td>\n",
       "      <td>2684</td>\n",
       "      <td>178862</td>\n",
       "      <td>156668</td>\n",
       "      <td>35829</td>\n",
       "      <td>127230</td>\n",
       "      <td>11663</td>\n",
       "      <td>0.061215</td>\n",
       "      <td>38000</td>\n",
       "      <td>30000</td>\n",
       "      <td>50000</td>\n",
       "      <td>25320</td>\n",
       "      <td>93889</td>\n",
       "      <td>27968</td>\n",
       "      <td>Women</td>\n",
       "      <td>126354.0</td>\n",
       "    </tr>\n",
       "    <tr>\n",
       "      <th>27</th>\n",
       "      <td>41</td>\n",
       "      <td>6201</td>\n",
       "      <td>Accounting</td>\n",
       "      <td>198633.0</td>\n",
       "      <td>Business</td>\n",
       "      <td>0.524153</td>\n",
       "      <td>2042</td>\n",
       "      <td>165527</td>\n",
       "      <td>151967</td>\n",
       "      <td>27693</td>\n",
       "      <td>123169</td>\n",
       "      <td>12411</td>\n",
       "      <td>0.069749</td>\n",
       "      <td>45000</td>\n",
       "      <td>34000</td>\n",
       "      <td>56000</td>\n",
       "      <td>11417</td>\n",
       "      <td>39323</td>\n",
       "      <td>10886</td>\n",
       "      <td>Women</td>\n",
       "      <td>104114.0</td>\n",
       "    </tr>\n",
       "    <tr>\n",
       "      <th>28</th>\n",
       "      <td>138</td>\n",
       "      <td>3301</td>\n",
       "      <td>English Language And Literature</td>\n",
       "      <td>194673.0</td>\n",
       "      <td>Humanities &amp; Liberal Arts</td>\n",
       "      <td>0.700898</td>\n",
       "      <td>1436</td>\n",
       "      <td>149180</td>\n",
       "      <td>114386</td>\n",
       "      <td>57825</td>\n",
       "      <td>81180</td>\n",
       "      <td>14345</td>\n",
       "      <td>0.087724</td>\n",
       "      <td>32000</td>\n",
       "      <td>23000</td>\n",
       "      <td>41000</td>\n",
       "      <td>57690</td>\n",
       "      <td>71827</td>\n",
       "      <td>26503</td>\n",
       "      <td>Women</td>\n",
       "      <td>136446.0</td>\n",
       "    </tr>\n",
       "    <tr>\n",
       "      <th>29</th>\n",
       "      <td>79</td>\n",
       "      <td>5506</td>\n",
       "      <td>Political Science And Government</td>\n",
       "      <td>182621.0</td>\n",
       "      <td>Social Science</td>\n",
       "      <td>0.485930</td>\n",
       "      <td>1387</td>\n",
       "      <td>133454</td>\n",
       "      <td>117709</td>\n",
       "      <td>43711</td>\n",
       "      <td>83236</td>\n",
       "      <td>15022</td>\n",
       "      <td>0.101175</td>\n",
       "      <td>38000</td>\n",
       "      <td>28000</td>\n",
       "      <td>50000</td>\n",
       "      <td>36854</td>\n",
       "      <td>66947</td>\n",
       "      <td>19803</td>\n",
       "      <td>Women</td>\n",
       "      <td>88741.0</td>\n",
       "    </tr>\n",
       "    <tr>\n",
       "      <th>30</th>\n",
       "      <td>36</td>\n",
       "      <td>6207</td>\n",
       "      <td>Finance</td>\n",
       "      <td>174506.0</td>\n",
       "      <td>Business</td>\n",
       "      <td>0.340825</td>\n",
       "      <td>2189</td>\n",
       "      <td>145696</td>\n",
       "      <td>137921</td>\n",
       "      <td>21463</td>\n",
       "      <td>108595</td>\n",
       "      <td>9413</td>\n",
       "      <td>0.060686</td>\n",
       "      <td>47000</td>\n",
       "      <td>35000</td>\n",
       "      <td>64000</td>\n",
       "      <td>24243</td>\n",
       "      <td>48447</td>\n",
       "      <td>9910</td>\n",
       "      <td>Women</td>\n",
       "      <td>59476.0</td>\n",
       "    </tr>\n",
       "    <tr>\n",
       "      <th>31</th>\n",
       "      <td>139</td>\n",
       "      <td>2304</td>\n",
       "      <td>Elementary Education</td>\n",
       "      <td>170862.0</td>\n",
       "      <td>Education</td>\n",
       "      <td>0.923745</td>\n",
       "      <td>1629</td>\n",
       "      <td>149339</td>\n",
       "      <td>123177</td>\n",
       "      <td>37965</td>\n",
       "      <td>86540</td>\n",
       "      <td>7297</td>\n",
       "      <td>0.046586</td>\n",
       "      <td>32000</td>\n",
       "      <td>23400</td>\n",
       "      <td>38000</td>\n",
       "      <td>108085</td>\n",
       "      <td>36972</td>\n",
       "      <td>11502</td>\n",
       "      <td>Women</td>\n",
       "      <td>157833.0</td>\n",
       "    </tr>\n",
       "    <tr>\n",
       "      <th>32</th>\n",
       "      <td>95</td>\n",
       "      <td>5301</td>\n",
       "      <td>Criminal Justice And Fire Protection</td>\n",
       "      <td>152824.0</td>\n",
       "      <td>Law &amp; Public Policy</td>\n",
       "      <td>0.475010</td>\n",
       "      <td>1728</td>\n",
       "      <td>125393</td>\n",
       "      <td>109970</td>\n",
       "      <td>32242</td>\n",
       "      <td>88548</td>\n",
       "      <td>11268</td>\n",
       "      <td>0.082452</td>\n",
       "      <td>35000</td>\n",
       "      <td>26000</td>\n",
       "      <td>45000</td>\n",
       "      <td>24348</td>\n",
       "      <td>88858</td>\n",
       "      <td>18404</td>\n",
       "      <td>Women</td>\n",
       "      <td>72593.0</td>\n",
       "    </tr>\n",
       "    <tr>\n",
       "      <th>33</th>\n",
       "      <td>114</td>\n",
       "      <td>2300</td>\n",
       "      <td>General Education</td>\n",
       "      <td>143718.0</td>\n",
       "      <td>Education</td>\n",
       "      <td>0.812877</td>\n",
       "      <td>919</td>\n",
       "      <td>118241</td>\n",
       "      <td>98408</td>\n",
       "      <td>29558</td>\n",
       "      <td>73531</td>\n",
       "      <td>7195</td>\n",
       "      <td>0.057360</td>\n",
       "      <td>34000</td>\n",
       "      <td>26000</td>\n",
       "      <td>41000</td>\n",
       "      <td>82007</td>\n",
       "      <td>31112</td>\n",
       "      <td>11443</td>\n",
       "      <td>Women</td>\n",
       "      <td>116825.0</td>\n",
       "    </tr>\n",
       "    <tr>\n",
       "      <th>34</th>\n",
       "      <td>115</td>\n",
       "      <td>6402</td>\n",
       "      <td>History</td>\n",
       "      <td>141951.0</td>\n",
       "      <td>Humanities &amp; Liberal Arts</td>\n",
       "      <td>0.448732</td>\n",
       "      <td>1058</td>\n",
       "      <td>105646</td>\n",
       "      <td>84681</td>\n",
       "      <td>40657</td>\n",
       "      <td>59218</td>\n",
       "      <td>11176</td>\n",
       "      <td>0.095667</td>\n",
       "      <td>34000</td>\n",
       "      <td>25000</td>\n",
       "      <td>47000</td>\n",
       "      <td>35336</td>\n",
       "      <td>54569</td>\n",
       "      <td>16839</td>\n",
       "      <td>Women</td>\n",
       "      <td>63698.0</td>\n",
       "    </tr>\n",
       "    <tr>\n",
       "      <th>35</th>\n",
       "      <td>37</td>\n",
       "      <td>5501</td>\n",
       "      <td>Economics</td>\n",
       "      <td>139247.0</td>\n",
       "      <td>Social Science</td>\n",
       "      <td>0.355469</td>\n",
       "      <td>1322</td>\n",
       "      <td>104117</td>\n",
       "      <td>96567</td>\n",
       "      <td>25325</td>\n",
       "      <td>70740</td>\n",
       "      <td>11452</td>\n",
       "      <td>0.099092</td>\n",
       "      <td>47000</td>\n",
       "      <td>35000</td>\n",
       "      <td>65000</td>\n",
       "      <td>25582</td>\n",
       "      <td>37057</td>\n",
       "      <td>10653</td>\n",
       "      <td>Women</td>\n",
       "      <td>49498.0</td>\n",
       "    </tr>\n",
       "    <tr>\n",
       "      <th>36</th>\n",
       "      <td>21</td>\n",
       "      <td>2102</td>\n",
       "      <td>Computer Science</td>\n",
       "      <td>128319.0</td>\n",
       "      <td>Computers &amp; Mathematics</td>\n",
       "      <td>0.222695</td>\n",
       "      <td>1196</td>\n",
       "      <td>102087</td>\n",
       "      <td>91485</td>\n",
       "      <td>18726</td>\n",
       "      <td>70932</td>\n",
       "      <td>6884</td>\n",
       "      <td>0.063173</td>\n",
       "      <td>53000</td>\n",
       "      <td>39000</td>\n",
       "      <td>70000</td>\n",
       "      <td>68622</td>\n",
       "      <td>25667</td>\n",
       "      <td>5144</td>\n",
       "      <td>Women</td>\n",
       "      <td>28576.0</td>\n",
       "    </tr>\n",
       "    <tr>\n",
       "      <th>37</th>\n",
       "      <td>140</td>\n",
       "      <td>4101</td>\n",
       "      <td>Physical Fitness Parks Recreation And Leisure</td>\n",
       "      <td>125074.0</td>\n",
       "      <td>Industrial Arts &amp; Consumer Services</td>\n",
       "      <td>0.502846</td>\n",
       "      <td>1014</td>\n",
       "      <td>103078</td>\n",
       "      <td>77428</td>\n",
       "      <td>38515</td>\n",
       "      <td>57978</td>\n",
       "      <td>5593</td>\n",
       "      <td>0.051467</td>\n",
       "      <td>32000</td>\n",
       "      <td>24000</td>\n",
       "      <td>43000</td>\n",
       "      <td>27581</td>\n",
       "      <td>63946</td>\n",
       "      <td>16838</td>\n",
       "      <td>Women</td>\n",
       "      <td>62893.0</td>\n",
       "    </tr>\n",
       "    <tr>\n",
       "      <th>38</th>\n",
       "      <td>125</td>\n",
       "      <td>5507</td>\n",
       "      <td>Sociology</td>\n",
       "      <td>115433.0</td>\n",
       "      <td>Social Science</td>\n",
       "      <td>0.718365</td>\n",
       "      <td>1024</td>\n",
       "      <td>92721</td>\n",
       "      <td>73475</td>\n",
       "      <td>29639</td>\n",
       "      <td>56561</td>\n",
       "      <td>8608</td>\n",
       "      <td>0.084951</td>\n",
       "      <td>33000</td>\n",
       "      <td>25000</td>\n",
       "      <td>44000</td>\n",
       "      <td>29051</td>\n",
       "      <td>48899</td>\n",
       "      <td>13748</td>\n",
       "      <td>Women</td>\n",
       "      <td>82923.0</td>\n",
       "    </tr>\n",
       "    <tr>\n",
       "      <th>39</th>\n",
       "      <td>96</td>\n",
       "      <td>6004</td>\n",
       "      <td>Commercial Art And Graphic Design</td>\n",
       "      <td>103480.0</td>\n",
       "      <td>Arts</td>\n",
       "      <td>0.690365</td>\n",
       "      <td>1186</td>\n",
       "      <td>83483</td>\n",
       "      <td>67448</td>\n",
       "      <td>24387</td>\n",
       "      <td>52243</td>\n",
       "      <td>8947</td>\n",
       "      <td>0.096798</td>\n",
       "      <td>35000</td>\n",
       "      <td>25000</td>\n",
       "      <td>45000</td>\n",
       "      <td>37389</td>\n",
       "      <td>38119</td>\n",
       "      <td>14839</td>\n",
       "      <td>Women</td>\n",
       "      <td>71439.0</td>\n",
       "    </tr>\n",
       "  </tbody>\n",
       "</table>\n",
       "</div>"
      ],
      "text/plain": [
       "    Rank  Major_code                                          Major     Total  \\\n",
       "0    146        5200                                     Psychology  393735.0   \n",
       "1     77        6203         Business Management And Administration  329927.0   \n",
       "2    124        3600                                        Biology  280709.0   \n",
       "3     58        6200                               General Business  234590.0   \n",
       "4     94        1901                                 Communications  213996.0   \n",
       "5     35        6107                                        Nursing  209394.0   \n",
       "6     78        6206               Marketing And Marketing Research  205211.0   \n",
       "7     41        6201                                     Accounting  198633.0   \n",
       "8    138        3301                English Language And Literature  194673.0   \n",
       "9     79        5506               Political Science And Government  182621.0   \n",
       "10    36        6207                                        Finance  174506.0   \n",
       "11   139        2304                           Elementary Education  170862.0   \n",
       "12    95        5301           Criminal Justice And Fire Protection  152824.0   \n",
       "13   114        2300                              General Education  143718.0   \n",
       "14   115        6402                                        History  141951.0   \n",
       "15    37        5501                                      Economics  139247.0   \n",
       "16    21        2102                               Computer Science  128319.0   \n",
       "17   140        4101  Physical Fitness Parks Recreation And Leisure  125074.0   \n",
       "18   125        5507                                      Sociology  115433.0   \n",
       "19    96        6004              Commercial Art And Graphic Design  103480.0   \n",
       "20   146        5200                                     Psychology  393735.0   \n",
       "21    77        6203         Business Management And Administration  329927.0   \n",
       "22   124        3600                                        Biology  280709.0   \n",
       "23    58        6200                               General Business  234590.0   \n",
       "24    94        1901                                 Communications  213996.0   \n",
       "25    35        6107                                        Nursing  209394.0   \n",
       "26    78        6206               Marketing And Marketing Research  205211.0   \n",
       "27    41        6201                                     Accounting  198633.0   \n",
       "28   138        3301                English Language And Literature  194673.0   \n",
       "29    79        5506               Political Science And Government  182621.0   \n",
       "30    36        6207                                        Finance  174506.0   \n",
       "31   139        2304                           Elementary Education  170862.0   \n",
       "32    95        5301           Criminal Justice And Fire Protection  152824.0   \n",
       "33   114        2300                              General Education  143718.0   \n",
       "34   115        6402                                        History  141951.0   \n",
       "35    37        5501                                      Economics  139247.0   \n",
       "36    21        2102                               Computer Science  128319.0   \n",
       "37   140        4101  Physical Fitness Parks Recreation And Leisure  125074.0   \n",
       "38   125        5507                                      Sociology  115433.0   \n",
       "39    96        6004              Commercial Art And Graphic Design  103480.0   \n",
       "\n",
       "                         Major_category  ShareWomen  Sample_size  Employed  \\\n",
       "0              Psychology & Social Work    0.779933         2584    307933   \n",
       "1                              Business    0.473190         4212    276234   \n",
       "2                Biology & Life Science    0.601858         1370    182295   \n",
       "3                              Business    0.436302         2380    190183   \n",
       "4           Communications & Journalism    0.669999         2394    179633   \n",
       "5                                Health    0.896019         2554    180903   \n",
       "6                              Business    0.615727         2684    178862   \n",
       "7                              Business    0.524153         2042    165527   \n",
       "8             Humanities & Liberal Arts    0.700898         1436    149180   \n",
       "9                        Social Science    0.485930         1387    133454   \n",
       "10                             Business    0.340825         2189    145696   \n",
       "11                            Education    0.923745         1629    149339   \n",
       "12                  Law & Public Policy    0.475010         1728    125393   \n",
       "13                            Education    0.812877          919    118241   \n",
       "14            Humanities & Liberal Arts    0.448732         1058    105646   \n",
       "15                       Social Science    0.355469         1322    104117   \n",
       "16              Computers & Mathematics    0.222695         1196    102087   \n",
       "17  Industrial Arts & Consumer Services    0.502846         1014    103078   \n",
       "18                       Social Science    0.718365         1024     92721   \n",
       "19                                 Arts    0.690365         1186     83483   \n",
       "20             Psychology & Social Work    0.779933         2584    307933   \n",
       "21                             Business    0.473190         4212    276234   \n",
       "22               Biology & Life Science    0.601858         1370    182295   \n",
       "23                             Business    0.436302         2380    190183   \n",
       "24          Communications & Journalism    0.669999         2394    179633   \n",
       "25                               Health    0.896019         2554    180903   \n",
       "26                             Business    0.615727         2684    178862   \n",
       "27                             Business    0.524153         2042    165527   \n",
       "28            Humanities & Liberal Arts    0.700898         1436    149180   \n",
       "29                       Social Science    0.485930         1387    133454   \n",
       "30                             Business    0.340825         2189    145696   \n",
       "31                            Education    0.923745         1629    149339   \n",
       "32                  Law & Public Policy    0.475010         1728    125393   \n",
       "33                            Education    0.812877          919    118241   \n",
       "34            Humanities & Liberal Arts    0.448732         1058    105646   \n",
       "35                       Social Science    0.355469         1322    104117   \n",
       "36              Computers & Mathematics    0.222695         1196    102087   \n",
       "37  Industrial Arts & Consumer Services    0.502846         1014    103078   \n",
       "38                       Social Science    0.718365         1024     92721   \n",
       "39                                 Arts    0.690365         1186     83483   \n",
       "\n",
       "    Full_time  Part_time  Full_time_year_round  Unemployed  Unemployment_rate  \\\n",
       "0      233205     115172                174438       28169           0.083811   \n",
       "1      251540      50357                199897       21502           0.072218   \n",
       "2      144512      72371                100336       13874           0.070725   \n",
       "3      171385      36241                138299       14946           0.072861   \n",
       "4      147335      49889                116251       14602           0.075177   \n",
       "5      151191      40818                122817        8497           0.044863   \n",
       "6      156668      35829                127230       11663           0.061215   \n",
       "7      151967      27693                123169       12411           0.069749   \n",
       "8      114386      57825                 81180       14345           0.087724   \n",
       "9      117709      43711                 83236       15022           0.101175   \n",
       "10     137921      21463                108595        9413           0.060686   \n",
       "11     123177      37965                 86540        7297           0.046586   \n",
       "12     109970      32242                 88548       11268           0.082452   \n",
       "13      98408      29558                 73531        7195           0.057360   \n",
       "14      84681      40657                 59218       11176           0.095667   \n",
       "15      96567      25325                 70740       11452           0.099092   \n",
       "16      91485      18726                 70932        6884           0.063173   \n",
       "17      77428      38515                 57978        5593           0.051467   \n",
       "18      73475      29639                 56561        8608           0.084951   \n",
       "19      67448      24387                 52243        8947           0.096798   \n",
       "20     233205     115172                174438       28169           0.083811   \n",
       "21     251540      50357                199897       21502           0.072218   \n",
       "22     144512      72371                100336       13874           0.070725   \n",
       "23     171385      36241                138299       14946           0.072861   \n",
       "24     147335      49889                116251       14602           0.075177   \n",
       "25     151191      40818                122817        8497           0.044863   \n",
       "26     156668      35829                127230       11663           0.061215   \n",
       "27     151967      27693                123169       12411           0.069749   \n",
       "28     114386      57825                 81180       14345           0.087724   \n",
       "29     117709      43711                 83236       15022           0.101175   \n",
       "30     137921      21463                108595        9413           0.060686   \n",
       "31     123177      37965                 86540        7297           0.046586   \n",
       "32     109970      32242                 88548       11268           0.082452   \n",
       "33      98408      29558                 73531        7195           0.057360   \n",
       "34      84681      40657                 59218       11176           0.095667   \n",
       "35      96567      25325                 70740       11452           0.099092   \n",
       "36      91485      18726                 70932        6884           0.063173   \n",
       "37      77428      38515                 57978        5593           0.051467   \n",
       "38      73475      29639                 56561        8608           0.084951   \n",
       "39      67448      24387                 52243        8947           0.096798   \n",
       "\n",
       "    Median  P25th  P75th  College_jobs  Non_college_jobs  Low_wage_jobs  \\\n",
       "0    31500  24000  41000        125148            141860          48207   \n",
       "1    38000  29000  50000         36720            148395          32395   \n",
       "2    33400  24000  45000         88232             81109          28339   \n",
       "3    40000  30000  55000         29334            100831          27320   \n",
       "4    35000  27000  45000         40763             97964          27440   \n",
       "5    48000  39000  58000        151643             26146           6193   \n",
       "6    38000  30000  50000         25320             93889          27968   \n",
       "7    45000  34000  56000         11417             39323          10886   \n",
       "8    32000  23000  41000         57690             71827          26503   \n",
       "9    38000  28000  50000         36854             66947          19803   \n",
       "10   47000  35000  64000         24243             48447           9910   \n",
       "11   32000  23400  38000        108085             36972          11502   \n",
       "12   35000  26000  45000         24348             88858          18404   \n",
       "13   34000  26000  41000         82007             31112          11443   \n",
       "14   34000  25000  47000         35336             54569          16839   \n",
       "15   47000  35000  65000         25582             37057          10653   \n",
       "16   53000  39000  70000         68622             25667           5144   \n",
       "17   32000  24000  43000         27581             63946          16838   \n",
       "18   33000  25000  44000         29051             48899          13748   \n",
       "19   35000  25000  45000         37389             38119          14839   \n",
       "20   31500  24000  41000        125148            141860          48207   \n",
       "21   38000  29000  50000         36720            148395          32395   \n",
       "22   33400  24000  45000         88232             81109          28339   \n",
       "23   40000  30000  55000         29334            100831          27320   \n",
       "24   35000  27000  45000         40763             97964          27440   \n",
       "25   48000  39000  58000        151643             26146           6193   \n",
       "26   38000  30000  50000         25320             93889          27968   \n",
       "27   45000  34000  56000         11417             39323          10886   \n",
       "28   32000  23000  41000         57690             71827          26503   \n",
       "29   38000  28000  50000         36854             66947          19803   \n",
       "30   47000  35000  64000         24243             48447           9910   \n",
       "31   32000  23400  38000        108085             36972          11502   \n",
       "32   35000  26000  45000         24348             88858          18404   \n",
       "33   34000  26000  41000         82007             31112          11443   \n",
       "34   34000  25000  47000         35336             54569          16839   \n",
       "35   47000  35000  65000         25582             37057          10653   \n",
       "36   53000  39000  70000         68622             25667           5144   \n",
       "37   32000  24000  43000         27581             63946          16838   \n",
       "38   33000  25000  44000         29051             48899          13748   \n",
       "39   35000  25000  45000         37389             38119          14839   \n",
       "\n",
       "   Gender    Number  \n",
       "0     Men   86648.0  \n",
       "1     Men  173809.0  \n",
       "2     Men  111762.0  \n",
       "3     Men  132238.0  \n",
       "4     Men   70619.0  \n",
       "5     Men   21773.0  \n",
       "6     Men   78857.0  \n",
       "7     Men   94519.0  \n",
       "8     Men   58227.0  \n",
       "9     Men   93880.0  \n",
       "10    Men  115030.0  \n",
       "11    Men   13029.0  \n",
       "12    Men   80231.0  \n",
       "13    Men   26893.0  \n",
       "14    Men   78253.0  \n",
       "15    Men   89749.0  \n",
       "16    Men   99743.0  \n",
       "17    Men   62181.0  \n",
       "18    Men   32510.0  \n",
       "19    Men   32041.0  \n",
       "20  Women  307087.0  \n",
       "21  Women  156118.0  \n",
       "22  Women  168947.0  \n",
       "23  Women  102352.0  \n",
       "24  Women  143377.0  \n",
       "25  Women  187621.0  \n",
       "26  Women  126354.0  \n",
       "27  Women  104114.0  \n",
       "28  Women  136446.0  \n",
       "29  Women   88741.0  \n",
       "30  Women   59476.0  \n",
       "31  Women  157833.0  \n",
       "32  Women   72593.0  \n",
       "33  Women  116825.0  \n",
       "34  Women   63698.0  \n",
       "35  Women   49498.0  \n",
       "36  Women   28576.0  \n",
       "37  Women   62893.0  \n",
       "38  Women   82923.0  \n",
       "39  Women   71439.0  "
      ]
     },
     "execution_count": 21,
     "metadata": {},
     "output_type": "execute_result"
    }
   ],
   "source": [
    "# http://connor-johnson.com/2014/08/28/tidyr-and-pandas-gather-and-melt/\n",
    "def gather(df ,key, value, cols):\n",
    "    id_vars = [col for col in df.columns if col not in cols]\n",
    "    id_values = cols\n",
    "    var_name = key\n",
    "    value_name  = value\n",
    "    return pd.melt(df, id_vars, id_values, var_name, value_name)\n",
    "\n",
    "major_processed = major_processed.sort_values('Total', ascending=False)\n",
    "major_processed = major_processed.head(20)\n",
    "\n",
    "major_processed = gather(major_processed, 'Gender', 'Number', ['Men', 'Women']) \n",
    "\n",
    "major_processed"
   ]
  },
  {
   "cell_type": "code",
   "execution_count": 14,
   "metadata": {},
   "outputs": [],
   "source": [
    "# Create stack bar chart using plotly\n",
    "\n",
    "fig = px.bar(major_process"
   ]
  },
  {
   "cell_type": "code",
   "execution_count": null,
   "metadata": {},
   "outputs": [],
   "source": []
  },
  {
   "cell_type": "code",
   "execution_count": null,
   "metadata": {},
   "outputs": [],
   "source": []
  },
  {
   "cell_type": "code",
   "execution_count": null,
   "metadata": {},
   "outputs": [],
   "source": []
  },
  {
   "cell_type": "code",
   "execution_count": null,
   "metadata": {},
   "outputs": [],
   "source": []
  },
  {
   "cell_type": "markdown",
   "metadata": {},
   "source": [
    "[Gather() Function in Python](http://connor-johnson.com/2014/08/28/tidyr-and-pandas-gather-and-melt/)"
   ]
  },
  {
   "cell_type": "code",
   "execution_count": null,
   "metadata": {},
   "outputs": [],
   "source": []
  }
 ],
 "metadata": {
  "kernelspec": {
   "display_name": "Python 3.8.8 64-bit ('base': conda)",
   "language": "python",
   "name": "python388jvsc74a57bd0ac4e3ed206de2fae8fe75b75b4547400d5e5368281e8df64ace39c383c423c49"
  },
  "language_info": {
   "codemirror_mode": {
    "name": "ipython",
    "version": 3
   },
   "file_extension": ".py",
   "mimetype": "text/x-python",
   "name": "python",
   "nbconvert_exporter": "python",
   "pygments_lexer": "ipython3",
   "version": "3.8.8"
  }
 },
 "nbformat": 4,
 "nbformat_minor": 4
}
